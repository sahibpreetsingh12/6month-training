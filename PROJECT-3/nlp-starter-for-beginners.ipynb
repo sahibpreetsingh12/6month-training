{
 "cells": [
  {
   "cell_type": "code",
   "execution_count": 1,
   "metadata": {
    "_cell_guid": "b1076dfc-b9ad-4769-8c92-a6c4dae69d19",
    "_uuid": "8f2839f25d086af736a60e9eeb907d3b93b6e0e5"
   },
   "outputs": [
    {
     "name": "stdout",
     "output_type": "stream",
     "text": [
      "/kaggle/input/nlp-getting-started/sample_submission.csv\n",
      "/kaggle/input/nlp-getting-started/test.csv\n",
      "/kaggle/input/nlp-getting-started/train.csv\n"
     ]
    }
   ],
   "source": [
    "# This Python 3 environment comes with many helpful analytics libraries installed\n",
    "# It is defined by the kaggle/python docker image: https://github.com/kaggle/docker-python\n",
    "# For example, here's several helpful packages to load in \n",
    "\n",
    "import numpy as np # linear algebra\n",
    "import pandas as pd # data processing, CSV file I/O (e.g. pd.read_csv)\n",
    "\n",
    "# Input data files are available in the \"../input/\" directory.\n",
    "# For example, running this (by clicking run or pressing Shift+Enter) will list all files under the input directory\n",
    "\n",
    "import os\n",
    "for dirname, _, filenames in os.walk('/kaggle/input'):\n",
    "    for filename in filenames:\n",
    "        print(os.path.join(dirname, filename))\n",
    "\n",
    "# Any results you write to the current directory are saved as output."
   ]
  },
  {
   "cell_type": "markdown",
   "metadata": {},
   "source": [
    "![Image](data:image/jpeg;base64,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)"
   ]
  },
  {
   "cell_type": "markdown",
   "metadata": {},
   "source": [
    "## Importing Necessary Libraries"
   ]
  },
  {
   "cell_type": "code",
   "execution_count": 2,
   "metadata": {
    "_cell_guid": "79c7e3d0-c299-4dcb-8224-4455121ee9b0",
    "_uuid": "d629ff2d2480ee46fbb7e2d37f6b5fab8052498a"
   },
   "outputs": [],
   "source": [
    "# text processing libraries\n",
    "import re\n",
    "import string\n",
    "import nltk\n",
    "from nltk.corpus import stopwords\n",
    "\n",
    "# XGBoost\n",
    "import xgboost as xgb\n",
    "from xgboost import XGBClassifier\n",
    "\n",
    "# sklearn \n",
    "from sklearn import model_selection\n",
    "from sklearn.feature_extraction.text import CountVectorizer,TfidfVectorizer\n",
    "from sklearn.linear_model import LogisticRegression\n",
    "from sklearn.naive_bayes import MultinomialNB\n",
    "from sklearn.metrics import f1_score\n",
    "from sklearn import preprocessing, decomposition, model_selection, metrics, pipeline\n",
    "from sklearn.model_selection import GridSearchCV,StratifiedKFold,RandomizedSearchCV\n",
    "\n",
    "# matplotlib and seaborn for plotting\n",
    "import matplotlib.pyplot as plt\n",
    "import seaborn as sns\n",
    "\n",
    "# File system manangement\n",
    "import os\n",
    "\n",
    "# Suppress warnings \n",
    "import warnings\n",
    "warnings.filterwarnings('ignore')"
   ]
  },
  {
   "cell_type": "markdown",
   "metadata": {},
   "source": [
    "## Reading Dataset"
   ]
  },
  {
   "cell_type": "code",
   "execution_count": 3,
   "metadata": {},
   "outputs": [
    {
     "name": "stdout",
     "output_type": "stream",
     "text": [
      "Training Data Shape (7613, 5)\n"
     ]
    },
    {
     "data": {
      "text/html": [
       "<div>\n",
       "<style scoped>\n",
       "    .dataframe tbody tr th:only-of-type {\n",
       "        vertical-align: middle;\n",
       "    }\n",
       "\n",
       "    .dataframe tbody tr th {\n",
       "        vertical-align: top;\n",
       "    }\n",
       "\n",
       "    .dataframe thead th {\n",
       "        text-align: right;\n",
       "    }\n",
       "</style>\n",
       "<table border=\"1\" class=\"dataframe\">\n",
       "  <thead>\n",
       "    <tr style=\"text-align: right;\">\n",
       "      <th></th>\n",
       "      <th>id</th>\n",
       "      <th>keyword</th>\n",
       "      <th>location</th>\n",
       "      <th>text</th>\n",
       "      <th>target</th>\n",
       "    </tr>\n",
       "  </thead>\n",
       "  <tbody>\n",
       "    <tr>\n",
       "      <th>0</th>\n",
       "      <td>1</td>\n",
       "      <td>NaN</td>\n",
       "      <td>NaN</td>\n",
       "      <td>Our Deeds are the Reason of this #earthquake M...</td>\n",
       "      <td>1</td>\n",
       "    </tr>\n",
       "    <tr>\n",
       "      <th>1</th>\n",
       "      <td>4</td>\n",
       "      <td>NaN</td>\n",
       "      <td>NaN</td>\n",
       "      <td>Forest fire near La Ronge Sask. Canada</td>\n",
       "      <td>1</td>\n",
       "    </tr>\n",
       "    <tr>\n",
       "      <th>2</th>\n",
       "      <td>5</td>\n",
       "      <td>NaN</td>\n",
       "      <td>NaN</td>\n",
       "      <td>All residents asked to 'shelter in place' are ...</td>\n",
       "      <td>1</td>\n",
       "    </tr>\n",
       "    <tr>\n",
       "      <th>3</th>\n",
       "      <td>6</td>\n",
       "      <td>NaN</td>\n",
       "      <td>NaN</td>\n",
       "      <td>13,000 people receive #wildfires evacuation or...</td>\n",
       "      <td>1</td>\n",
       "    </tr>\n",
       "    <tr>\n",
       "      <th>4</th>\n",
       "      <td>7</td>\n",
       "      <td>NaN</td>\n",
       "      <td>NaN</td>\n",
       "      <td>Just got sent this photo from Ruby #Alaska as ...</td>\n",
       "      <td>1</td>\n",
       "    </tr>\n",
       "  </tbody>\n",
       "</table>\n",
       "</div>"
      ],
      "text/plain": [
       "   id keyword location                                               text  \\\n",
       "0   1     NaN      NaN  Our Deeds are the Reason of this #earthquake M...   \n",
       "1   4     NaN      NaN             Forest fire near La Ronge Sask. Canada   \n",
       "2   5     NaN      NaN  All residents asked to 'shelter in place' are ...   \n",
       "3   6     NaN      NaN  13,000 people receive #wildfires evacuation or...   \n",
       "4   7     NaN      NaN  Just got sent this photo from Ruby #Alaska as ...   \n",
       "\n",
       "   target  \n",
       "0       1  \n",
       "1       1  \n",
       "2       1  \n",
       "3       1  \n",
       "4       1  "
      ]
     },
     "execution_count": 3,
     "metadata": {},
     "output_type": "execute_result"
    }
   ],
   "source": [
    "#training Data\n",
    "train=pd.read_csv('/kaggle/input/nlp-getting-started/train.csv')\n",
    "print('Training Data Shape',train.shape)\n",
    "train.head()"
   ]
  },
  {
   "cell_type": "code",
   "execution_count": 4,
   "metadata": {},
   "outputs": [
    {
     "name": "stdout",
     "output_type": "stream",
     "text": [
      "Testing data shape:  (3263, 4)\n"
     ]
    },
    {
     "data": {
      "text/html": [
       "<div>\n",
       "<style scoped>\n",
       "    .dataframe tbody tr th:only-of-type {\n",
       "        vertical-align: middle;\n",
       "    }\n",
       "\n",
       "    .dataframe tbody tr th {\n",
       "        vertical-align: top;\n",
       "    }\n",
       "\n",
       "    .dataframe thead th {\n",
       "        text-align: right;\n",
       "    }\n",
       "</style>\n",
       "<table border=\"1\" class=\"dataframe\">\n",
       "  <thead>\n",
       "    <tr style=\"text-align: right;\">\n",
       "      <th></th>\n",
       "      <th>id</th>\n",
       "      <th>keyword</th>\n",
       "      <th>location</th>\n",
       "      <th>text</th>\n",
       "    </tr>\n",
       "  </thead>\n",
       "  <tbody>\n",
       "    <tr>\n",
       "      <th>0</th>\n",
       "      <td>0</td>\n",
       "      <td>NaN</td>\n",
       "      <td>NaN</td>\n",
       "      <td>Just happened a terrible car crash</td>\n",
       "    </tr>\n",
       "    <tr>\n",
       "      <th>1</th>\n",
       "      <td>2</td>\n",
       "      <td>NaN</td>\n",
       "      <td>NaN</td>\n",
       "      <td>Heard about #earthquake is different cities, s...</td>\n",
       "    </tr>\n",
       "    <tr>\n",
       "      <th>2</th>\n",
       "      <td>3</td>\n",
       "      <td>NaN</td>\n",
       "      <td>NaN</td>\n",
       "      <td>there is a forest fire at spot pond, geese are...</td>\n",
       "    </tr>\n",
       "    <tr>\n",
       "      <th>3</th>\n",
       "      <td>9</td>\n",
       "      <td>NaN</td>\n",
       "      <td>NaN</td>\n",
       "      <td>Apocalypse lighting. #Spokane #wildfires</td>\n",
       "    </tr>\n",
       "    <tr>\n",
       "      <th>4</th>\n",
       "      <td>11</td>\n",
       "      <td>NaN</td>\n",
       "      <td>NaN</td>\n",
       "      <td>Typhoon Soudelor kills 28 in China and Taiwan</td>\n",
       "    </tr>\n",
       "  </tbody>\n",
       "</table>\n",
       "</div>"
      ],
      "text/plain": [
       "   id keyword location                                               text\n",
       "0   0     NaN      NaN                 Just happened a terrible car crash\n",
       "1   2     NaN      NaN  Heard about #earthquake is different cities, s...\n",
       "2   3     NaN      NaN  there is a forest fire at spot pond, geese are...\n",
       "3   9     NaN      NaN           Apocalypse lighting. #Spokane #wildfires\n",
       "4  11     NaN      NaN      Typhoon Soudelor kills 28 in China and Taiwan"
      ]
     },
     "execution_count": 4,
     "metadata": {},
     "output_type": "execute_result"
    }
   ],
   "source": [
    "# Testing data \n",
    "test = pd.read_csv('../input/nlp-getting-started/test.csv')\n",
    "print('Testing data shape: ', test.shape)\n",
    "test.head()\n"
   ]
  },
  {
   "cell_type": "markdown",
   "metadata": {},
   "source": [
    "## Basic EDA"
   ]
  },
  {
   "cell_type": "code",
   "execution_count": 5,
   "metadata": {},
   "outputs": [
    {
     "data": {
      "text/plain": [
       "id             0\n",
       "keyword       61\n",
       "location    2533\n",
       "text           0\n",
       "target         0\n",
       "dtype: int64"
      ]
     },
     "execution_count": 5,
     "metadata": {},
     "output_type": "execute_result"
    }
   ],
   "source": [
    "# Counting Number oF Missing values\n",
    "train.isnull().sum()"
   ]
  },
  {
   "cell_type": "markdown",
   "metadata": {},
   "source": [
    "The columns denote the following:\n",
    "\n",
    "* The text of a tweet\n",
    "* A keyword from that tweet\n",
    "* The location the tweet was sent from"
   ]
  },
  {
   "cell_type": "code",
   "execution_count": 6,
   "metadata": {},
   "outputs": [
    {
     "data": {
      "text/plain": [
       "id             0\n",
       "keyword       26\n",
       "location    1105\n",
       "text           0\n",
       "dtype: int64"
      ]
     },
     "execution_count": 6,
     "metadata": {},
     "output_type": "execute_result"
    }
   ],
   "source": [
    "#Missing values in test set\n",
    "test.isnull().sum()"
   ]
  },
  {
   "cell_type": "markdown",
   "metadata": {},
   "source": [
    "Lot of **location** values are Missing"
   ]
  },
  {
   "cell_type": "markdown",
   "metadata": {},
   "source": [
    "## Exploring Target Column"
   ]
  },
  {
   "cell_type": "code",
   "execution_count": 7,
   "metadata": {},
   "outputs": [
    {
     "data": {
      "text/plain": [
       "0    4342\n",
       "1    3271\n",
       "Name: target, dtype: int64"
      ]
     },
     "execution_count": 7,
     "metadata": {},
     "output_type": "execute_result"
    }
   ],
   "source": [
    "train['target'].value_counts()"
   ]
  },
  {
   "cell_type": "code",
   "execution_count": 8,
   "metadata": {},
   "outputs": [
    {
     "data": {
      "text/plain": [
       "<matplotlib.axes._subplots.AxesSubplot at 0x7f555800d6d8>"
      ]
     },
     "execution_count": 8,
     "metadata": {},
     "output_type": "execute_result"
    },
    {
     "data": {
      "image/png": "[encoded data removed]",
      "text/plain": [
       "<Figure size 432x288 with 1 Axes>"
      ]
     },
     "metadata": {
      "needs_background": "light"
     },
     "output_type": "display_data"
    }
   ],
   "source": [
    "sns.barplot(train['target'].value_counts().index,train['target'].value_counts())"
   ]
  },
  {
   "cell_type": "markdown",
   "metadata": {},
   "source": [
    "Disaster tweets are Less in Number as compared to Non Disaster Tweets"
   ]
  },
  {
   "cell_type": "code",
   "execution_count": 9,
   "metadata": {},
   "outputs": [
    {
     "data": {
      "text/plain": [
       "'Forest fire near La Ronge Sask. Canada'"
      ]
     },
     "execution_count": 9,
     "metadata": {},
     "output_type": "execute_result"
    }
   ],
   "source": [
    "# A disaster tweet\n",
    "disaster_tweets = train[train['target']==1]['text']\n",
    "disaster_tweets.values[1]"
   ]
  },
  {
   "cell_type": "code",
   "execution_count": 10,
   "metadata": {},
   "outputs": [
    {
     "data": {
      "text/plain": [
       "'I love fruits'"
      ]
     },
     "execution_count": 10,
     "metadata": {},
     "output_type": "execute_result"
    }
   ],
   "source": [
    "#not a disaster tweet\n",
    "non_disaster_tweets = train[train['target']==0]['text']\n",
    "non_disaster_tweets.values[1]\n"
   ]
  },
  {
   "cell_type": "markdown",
   "metadata": {},
   "source": [
    "# Exploring the 'Keyword' Column"
   ]
  },
  {
   "cell_type": "code",
   "execution_count": 11,
   "metadata": {},
   "outputs": [
    {
     "data": {
      "text/plain": [
       "<matplotlib.axes._subplots.AxesSubplot at 0x7f5555f432e8>"
      ]
     },
     "execution_count": 11,
     "metadata": {},
     "output_type": "execute_result"
    },
    {
     "data": {
      "image/png": "[encoded data removed]",
      "text/plain": [
       "<Figure size 1080x720 with 1 Axes>"
      ]
     },
     "metadata": {
      "needs_background": "light"
     },
     "output_type": "display_data"
    }
   ],
   "source": [
    "plt.figure(figsize=(15,10))\n",
    "sns.barplot(y=train['keyword'].value_counts()[:20].index,x=train['keyword'].value_counts()[:20],\n",
    "            orient='h')\n"
   ]
  },
  {
   "cell_type": "markdown",
   "metadata": {},
   "source": [
    "# Text Data Preprocessing"
   ]
  },
  {
   "cell_type": "markdown",
   "metadata": {},
   "source": [
    "### Data Cleaning\n",
    "Before we start with any NLP project we need to pre-process the data to get it all in a consistent format.We need to clean, tokenize and convert our data into a matrix. Some of the basic text pre-processing techniques includes:\n",
    "\n",
    "* Make text all **lower case** or uppercase so that the algorithm does not treat the same words in different cases as different\n",
    "* **Removing Noise** i.e everything that isn’t in a standard number or letter i.e Punctuation, Numerical values, common non-sensical text (/n)\n",
    "* **Tokenization**: Tokenization is just the term used to describe the process of converting the normal text strings into a list of tokens i.e words that we actually want. Sentence tokenizer can be used to find the list of sentences and Word tokenizer can be used to find the list of words in strings.\n",
    "* **Stopword Removal**: Sometimes, some extremely common words which would appear to be of little value in helping select documents matching a user need are excluded from the vocabulary entirely. These words are called stop words\n",
    "\n",
    "More data cleaning steps after tokenization:\n",
    "\n",
    "* **Stemming**: Stemming is the process of reducing inflected (or sometimes derived) words to their stem, base or root form — generally a written word form. Example if we were to stem the following words: “Stems”, “Stemming”, “Stemmed”, “and Stemtization”, the result would be a single word “stem”.\n",
    "* **Lemmatization**: A slight variant of stemming is lemmatization. The major difference between these is, that, stemming can often create non-existent words, whereas lemmas are actual words. So, your root stem, meaning the word you end up with, is not something you can just look up in a dictionary, but you can look up a lemma. Examples of Lemmatization are that “run” is a base form for words like “running” or “ran” or that the word “better” and “good” are in the same lemma so they are considered the same.\n",
    "* Parts of speech tagging\n",
    "* Create bi-grams or tri-grams And more...\n",
    "* However, it is not necessary that you would need to use all these steps. The usage depends on your problem at hand. Sometimes removal of stop words helps while at other times, this might not help.Here is a nice table taken from the blog titled : [All you need to know about Text Preprocessing ](https://kavita-ganesan.com/text-preprocessing-tutorial/#.Xi2BhhczZTY)for Machine Learning & NLP that summarizes how much preprocessing you should be performing on your text data:"
   ]
  },
  {
   "cell_type": "code",
   "execution_count": 12,
   "metadata": {},
   "outputs": [
    {
     "data": {
      "text/plain": [
       "0    Our Deeds are the Reason of this #earthquake M...\n",
       "1               Forest fire near La Ronge Sask. Canada\n",
       "2    All residents asked to 'shelter in place' are ...\n",
       "3    13,000 people receive #wildfires evacuation or...\n",
       "4    Just got sent this photo from Ruby #Alaska as ...\n",
       "Name: text, dtype: object"
      ]
     },
     "execution_count": 12,
     "metadata": {},
     "output_type": "execute_result"
    }
   ],
   "source": [
    "# glance at training data\n",
    "train['text'][:5]"
   ]
  },
  {
   "cell_type": "code",
   "execution_count": 13,
   "metadata": {},
   "outputs": [
    {
     "data": {
      "text/plain": [
       "0    our deeds are the reason of this earthquake ma...\n",
       "1                forest fire near la ronge sask canada\n",
       "2    all residents asked to shelter in place are be...\n",
       "3     people receive wildfires evacuation orders in...\n",
       "4    just got sent this photo from ruby alaska as s...\n",
       "Name: text, dtype: object"
      ]
     },
     "execution_count": 13,
     "metadata": {},
     "output_type": "execute_result"
    }
   ],
   "source": [
    "# Applying a first round of text cleaning techniques\n",
    "\n",
    "def clean_text(text):\n",
    "    '''Make text lowercase, remove text in square brackets,remove links,remove punctuation\n",
    "    and remove words containing numbers.'''\n",
    "    text = text.lower()\n",
    "    text = re.sub('\\[.*?\\]', '', text)\n",
    "    text = re.sub('https?://\\S+|www\\.\\S+', '', text)\n",
    "    text = re.sub('<.*?>+', '', text)\n",
    "    text = re.sub('[%s]' % re.escape(string.punctuation), '', text)\n",
    "    text = re.sub('\\n', '', text)\n",
    "    text = re.sub('\\w*\\d\\w*', '', text)\n",
    "    return text\n",
    "\n",
    "# Applying the cleaning function to both test and training datasets\n",
    "train['text'] = train['text'].apply(lambda x: clean_text(x))\n",
    "test['text'] = test['text'].apply(lambda x: clean_text(x))\n",
    "\n",
    "# Let's take a look at the updated text\n",
    "train['text'].head()"
   ]
  },
  {
   "cell_type": "markdown",
   "metadata": {},
   "source": [
    "## Tokenisation"
   ]
  },
  {
   "cell_type": "code",
   "execution_count": 14,
   "metadata": {},
   "outputs": [
    {
     "name": "stdout",
     "output_type": "stream",
     "text": [
      "Example Text:  Are you coming , aren't you\n",
      "------------------------------------------------------------------------------------------------\n",
      "Tokenization by whitespace:-  ['Are', 'you', 'coming', ',', \"aren't\", 'you']\n",
      "Tokenization by words using Treebank Word Tokenizer:-  ['Are', 'you', 'coming', ',', 'are', \"n't\", 'you']\n",
      "Tokenization by punctuation:-  ['Are', 'you', 'coming', ',', 'aren', \"'\", 't', 'you']\n",
      "Tokenization by regular expression:-  ['Are', 'you', 'coming', 'aren', 't', 'you']\n"
     ]
    }
   ],
   "source": [
    "text = \"Are you coming , aren't you\"\n",
    "tokenizer1 = nltk.tokenize.WhitespaceTokenizer()\n",
    "tokenizer2 = nltk.tokenize.TreebankWordTokenizer()\n",
    "tokenizer3 = nltk.tokenize.WordPunctTokenizer()\n",
    "tokenizer4 = nltk.tokenize.RegexpTokenizer(r'\\w+')\n",
    "\n",
    "print(\"Example Text: \",text)\n",
    "print(\"------------------------------------------------------------------------------------------------\")\n",
    "print(\"Tokenization by whitespace:- \",tokenizer1.tokenize(text))\n",
    "print(\"Tokenization by words using Treebank Word Tokenizer:- \",tokenizer2.tokenize(text))\n",
    "print(\"Tokenization by punctuation:- \",tokenizer3.tokenize(text))\n",
    "print(\"Tokenization by regular expression:- \",tokenizer4.tokenize(text))"
   ]
  },
  {
   "cell_type": "code",
   "execution_count": 15,
   "metadata": {},
   "outputs": [
    {
     "data": {
      "text/plain": [
       "0    [our, deeds, are, the, reason, of, this, earth...\n",
       "1        [forest, fire, near, la, ronge, sask, canada]\n",
       "2    [all, residents, asked, to, shelter, in, place...\n",
       "3    [people, receive, wildfires, evacuation, order...\n",
       "4    [just, got, sent, this, photo, from, ruby, ala...\n",
       "Name: text, dtype: object"
      ]
     },
     "execution_count": 15,
     "metadata": {},
     "output_type": "execute_result"
    }
   ],
   "source": [
    "# Tokenizing the training and the test set\n",
    "tokenizer = nltk.tokenize.RegexpTokenizer(r'\\w+')\n",
    "train['text'] = train['text'].apply(lambda x: tokenizer.tokenize(x))\n",
    "test['text'] = test['text'].apply(lambda x: tokenizer.tokenize(x))\n",
    "train['text'].head()"
   ]
  },
  {
   "cell_type": "markdown",
   "metadata": {},
   "source": [
    "## Stopwords Removal"
   ]
  },
  {
   "cell_type": "code",
   "execution_count": 16,
   "metadata": {},
   "outputs": [
    {
     "data": {
      "text/html": [
       "<div>\n",
       "<style scoped>\n",
       "    .dataframe tbody tr th:only-of-type {\n",
       "        vertical-align: middle;\n",
       "    }\n",
       "\n",
       "    .dataframe tbody tr th {\n",
       "        vertical-align: top;\n",
       "    }\n",
       "\n",
       "    .dataframe thead th {\n",
       "        text-align: right;\n",
       "    }\n",
       "</style>\n",
       "<table border=\"1\" class=\"dataframe\">\n",
       "  <thead>\n",
       "    <tr style=\"text-align: right;\">\n",
       "      <th></th>\n",
       "      <th>id</th>\n",
       "      <th>keyword</th>\n",
       "      <th>location</th>\n",
       "      <th>text</th>\n",
       "      <th>target</th>\n",
       "    </tr>\n",
       "  </thead>\n",
       "  <tbody>\n",
       "    <tr>\n",
       "      <th>0</th>\n",
       "      <td>1</td>\n",
       "      <td>NaN</td>\n",
       "      <td>NaN</td>\n",
       "      <td>[deeds, reason, earthquake, may, allah, forgiv...</td>\n",
       "      <td>1</td>\n",
       "    </tr>\n",
       "    <tr>\n",
       "      <th>1</th>\n",
       "      <td>4</td>\n",
       "      <td>NaN</td>\n",
       "      <td>NaN</td>\n",
       "      <td>[forest, fire, near, la, ronge, sask, canada]</td>\n",
       "      <td>1</td>\n",
       "    </tr>\n",
       "    <tr>\n",
       "      <th>2</th>\n",
       "      <td>5</td>\n",
       "      <td>NaN</td>\n",
       "      <td>NaN</td>\n",
       "      <td>[residents, asked, shelter, place, notified, o...</td>\n",
       "      <td>1</td>\n",
       "    </tr>\n",
       "    <tr>\n",
       "      <th>3</th>\n",
       "      <td>6</td>\n",
       "      <td>NaN</td>\n",
       "      <td>NaN</td>\n",
       "      <td>[people, receive, wildfires, evacuation, order...</td>\n",
       "      <td>1</td>\n",
       "    </tr>\n",
       "    <tr>\n",
       "      <th>4</th>\n",
       "      <td>7</td>\n",
       "      <td>NaN</td>\n",
       "      <td>NaN</td>\n",
       "      <td>[got, sent, photo, ruby, alaska, smoke, wildfi...</td>\n",
       "      <td>1</td>\n",
       "    </tr>\n",
       "  </tbody>\n",
       "</table>\n",
       "</div>"
      ],
      "text/plain": [
       "   id keyword location                                               text  \\\n",
       "0   1     NaN      NaN  [deeds, reason, earthquake, may, allah, forgiv...   \n",
       "1   4     NaN      NaN      [forest, fire, near, la, ronge, sask, canada]   \n",
       "2   5     NaN      NaN  [residents, asked, shelter, place, notified, o...   \n",
       "3   6     NaN      NaN  [people, receive, wildfires, evacuation, order...   \n",
       "4   7     NaN      NaN  [got, sent, photo, ruby, alaska, smoke, wildfi...   \n",
       "\n",
       "   target  \n",
       "0       1  \n",
       "1       1  \n",
       "2       1  \n",
       "3       1  \n",
       "4       1  "
      ]
     },
     "execution_count": 16,
     "metadata": {},
     "output_type": "execute_result"
    }
   ],
   "source": [
    "def remove_stopwords(text):\n",
    "    \"\"\"\n",
    "    Removing stopwords belonging to english language\n",
    "    \n",
    "    \"\"\"\n",
    "    words = [w for w in text if w not in stopwords.words('english')]\n",
    "    return words\n",
    "\n",
    "\n",
    "train['text'] = train['text'].apply(lambda x : remove_stopwords(x))\n",
    "test['text'] = test['text'].apply(lambda x : remove_stopwords(x))\n",
    "train.head()"
   ]
  },
  {
   "cell_type": "code",
   "execution_count": 17,
   "metadata": {},
   "outputs": [],
   "source": [
    "# Not used\n",
    "# # list of list \n",
    "# docs=[]\n",
    "# for i in range(len(train)):\n",
    "#     docs.append(train['text'][i])\n",
    "    \n"
   ]
  },
  {
   "cell_type": "markdown",
   "metadata": {},
   "source": [
    "## Do we have to Normalize the Tokens here(i.e Stemming or Lemmatiztion ?)\n"
   ]
  },
  {
   "cell_type": "code",
   "execution_count": 18,
   "metadata": {},
   "outputs": [],
   "source": [
    "# we are not using this step\n",
    "# After preprocessing, the text format\n",
    "# def combine_text(list_of_text):\n",
    "#     '''Takes a list of text and combines them into one large chunk of text.'''\n",
    "#     combined_text = ' '.join(list_of_text)\n",
    "#     return combined_text\n",
    "\n",
    "# train['text'] = train['text'].apply(lambda x : combine_text(x))\n",
    "# test['text'] = test['text'].apply(lambda x : combine_text(x))\n",
    "# train['text']\n",
    "# train.head()"
   ]
  },
  {
   "cell_type": "markdown",
   "metadata": {},
   "source": [
    "# Transforming tokens to a vector"
   ]
  },
  {
   "attachments": {
    "image.png": {
     "image/png": "[encoded data removed]"
    }
   },
   "cell_type": "markdown",
   "metadata": {},
   "source": [
    "After the initial preprocessing phase, we need to transform text into a meaningful vector (or array) of numbers. This can be done by a number of tecniques:\n",
    "\n",
    "#### Bag of Words\n",
    "The bag-of-words is a representation of text that describes the occurrence of words within a document. It involves two things:\n",
    "\n",
    "1. A vocabulary of known words.\n",
    "1. A measure of the presence of known words.\n",
    "\n",
    "Why is it is called a “bag” of words? That is because any information about the order or structure of words in the document is discarded and the model is only concerned with whether the known words occur in the document, not where they occur in the document.\n",
    "\n",
    "![image.png](attachment:image.png)\n",
    "\n",
    "source:[Natural Language Processing course on coursera](https://www.coursera.org/learn/language-processing)\n",
    "\n",
    "We can do this using scikit-learn's CountVectorizer, where every row will represent a different tweet and every column will represent a different word.\n",
    "\n",
    "Bag of Words - Countvectorizer Features\n",
    "\n",
    "**Countvectorizer** converts a collection of text documents to a matrix of token counts. It is important to note here that CountVectorizer comes with a lot of options to automatically do preprocessing, tokenization, and stop word removal.However, i did all the process manually above to just get a better understanding. Let's use a vanilla implementation of the countvectorizer without specifying any parameters."
   ]
  },
  {
   "cell_type": "code",
   "execution_count": 19,
   "metadata": {},
   "outputs": [],
   "source": [
    "# Not using here\n",
    "# # using dfiffrent tokenizer and TfIdf fro SKlearn\n",
    "# # http://www.davidsbatista.net/blog/2018/02/28/TfidfVectorizer/\n",
    "# from sklearn.feature_extraction.text import TfidfVectorizer\n",
    "\n",
    "# def dummy_fun(doc):\n",
    "#     return doc\n",
    "\n",
    "# tfidf = TfidfVectorizer(\n",
    "#     analyzer='word',\n",
    "#     tokenizer=dummy_fun,\n",
    "#     preprocessor=dummy_fun,\n",
    "#     token_pattern=None)  \n",
    "\n",
    "# # trainsforming training vector\n",
    "# train_vectors=tfidf.fit_transform(docs)\n",
    "# print(len(tfidf.vocabulary_)) # len of vocublary\n",
    "# print(type(train_vectors))\n",
    "\n"
   ]
  },
  {
   "cell_type": "code",
   "execution_count": 20,
   "metadata": {},
   "outputs": [],
   "source": [
    "# After preprocessing, the text format\n",
    "def combine_text(list_of_text):\n",
    "    '''Takes a list of text and combines them into one large chunk of text.'''\n",
    "    combined_text = ' '.join(list_of_text)\n",
    "    return combined_text\n",
    "train['text']=train['text'].apply(lambda x: combine_text(x))\n",
    "test['text'] = test['text'].apply(lambda x : combine_text(x))"
   ]
  },
  {
   "cell_type": "code",
   "execution_count": 21,
   "metadata": {},
   "outputs": [],
   "source": [
    "# NOt used Here\n",
    "# # transforming test vectors\n",
    "# test_vectors = tfidf.transform(test[\"text\"])\n",
    "# print(type(test_vectors))\n",
    "# print(test_vectors.shape)\n"
   ]
  },
  {
   "cell_type": "markdown",
   "metadata": {},
   "source": [
    "# MIN_DF and MAX_DF parameter\n",
    "**MIN_DF** lets you ignore those terms that appear rarely in a corpus. In other words, if **MIN_df** is 2, it means that a word has to occur at least two documents to be considered useful.\n",
    "\n",
    "**MAX_DF** on the other hand, ignores terms that have a document frequency strictly higher than the given threshold.These will be words which appear a lot of documents.\n",
    "\n",
    "This means we can eliminate those words that are either rare or appear too frequently in a corpus.\n",
    "\n",
    "When mentioned in absolute values i.e 1,2, etc, the value means if the word appears in 1 or 2 documents. However, when given in float, eg 30%, it means it appears in 30% of the documents."
   ]
  },
  {
   "cell_type": "code",
   "execution_count": 22,
   "metadata": {},
   "outputs": [],
   "source": [
    "# min_df and max_df \n",
    "#https://stackoverflow.com/questions/27697766/understanding-min-df-and-max-df-in-scikit-countvectorizer\n",
    "# ngram_range\n",
    "#https://www.kaggle.com/c/avito-demand-prediction/discussion/58819\n",
    "tfidf = TfidfVectorizer(min_df=2, max_df=0.5, ngram_range=(1, 2))\n",
    "train_vectors = tfidf.fit_transform(train['text'])\n",
    "test_vectors = tfidf.transform(test[\"text\"])"
   ]
  },
  {
   "cell_type": "markdown",
   "metadata": {},
   "source": [
    "## Building a Text Classification model\n",
    "\n",
    "Now the data is ready to be fed into a classification model. Let's create a basic claasification model using commonly used classification algorithms and see how our model performs."
   ]
  },
  {
   "cell_type": "code",
   "execution_count": 23,
   "metadata": {},
   "outputs": [
    {
     "data": {
      "text/plain": [
       "array([0.63709677, 0.52509653, 0.5       , 0.51464968, 0.50874832,\n",
       "       0.51028807, 0.6962963 ])"
      ]
     },
     "execution_count": 23,
     "metadata": {},
     "output_type": "execute_result"
    }
   ],
   "source": [
    "clf = LogisticRegression(C=0.90,max_iter=1000,penalty='l2')\n",
    "# clf = LogisticRegression(C=1.00)\n",
    "# was  also best when min_df=2,max_df=5,ngram_range=(1,2)\n",
    "scores = model_selection.cross_val_score(clf, train_vectors, train[\"target\"], cv=7, scoring=\"f1\")\n",
    "scores"
   ]
  },
  {
   "cell_type": "code",
   "execution_count": 24,
   "metadata": {},
   "outputs": [
    {
     "data": {
      "text/plain": [
       "LogisticRegression(C=0.9, class_weight=None, dual=False, fit_intercept=True,\n",
       "                   intercept_scaling=1, l1_ratio=None, max_iter=1000,\n",
       "                   multi_class='auto', n_jobs=None, penalty='l2',\n",
       "                   random_state=None, solver='lbfgs', tol=0.0001, verbose=0,\n",
       "                   warm_start=False)"
      ]
     },
     "execution_count": 24,
     "metadata": {},
     "output_type": "execute_result"
    }
   ],
   "source": [
    "clf.fit(train_vectors, train[\"target\"])"
   ]
  },
  {
   "cell_type": "code",
   "execution_count": 25,
   "metadata": {},
   "outputs": [],
   "source": [
    "sample_submission = pd.read_csv(\"/kaggle/input/nlp-getting-started/sample_submission.csv\")\n",
    "sample_submission[\"target\"] = clf.predict(test_vectors)\n",
    "sample_submission.to_csv(\"submission.csv\", index=False)"
   ]
  },
  {
   "cell_type": "markdown",
   "metadata": {},
   "source": [
    "# Sources\n",
    "1. https://www.kaggle.com/parulpandey/getting-started-with-nlp-a-general-intro/notebook"
   ]
  },
  {
   "cell_type": "markdown",
   "metadata": {},
   "source": [
    "# Grid Search Method"
   ]
  },
  {
   "cell_type": "markdown",
   "metadata": {},
   "source": [
    "## Will Implement It soon\n"
   ]
  },
  {
   "cell_type": "code",
   "execution_count": 26,
   "metadata": {},
   "outputs": [],
   "source": [
    "\n",
    "# from sklearn.pipeline import Pipeline\n",
    "\n",
    "# # Create first pipeline for base without reducing features.\n",
    "\n",
    "# pipe = Pipeline([('classifier' , LogisticRegression())])\n",
    "\n",
    "\n",
    "# # Create param grid.\n",
    "\n",
    "# param_grid = [\n",
    "#     {'classifier' : [LogisticRegression()],\n",
    "#      'classifier__penalty' : ['l1', 'l2'],\n",
    "#     'classifier__C' : np.logspace(-4, 4, 20),\n",
    "#     'classifier__solver' : ['liblinear']},\n",
    "    \n",
    "# ]\n",
    "\n",
    "# # Create grid search object\n",
    "\n",
    "# clf = GridSearchCV(pipe, param_grid = param_grid, cv = 5, verbose=True, n_jobs=-1)\n",
    "\n",
    "# # Fit on data\n",
    "\n",
    "# best_clf = clf.fit(train_vectors, train[\"target\"])\n",
    "\n",
    "\n",
    "# sample_submission = pd.read_csv(\"/kaggle/input/nlp-getting-started/sample_submission.csv\")\n",
    "# sample_submission[\"target\"] = best_clf.predict(test_vectors)\n",
    "# sample_submission.to_csv(\"submission.csv\", index=False)"
   ]
  }
 ],
 "metadata": {
  "kernelspec": {
   "display_name": "Python 3",
   "language": "python",
   "name": "python3"
  },
  "language_info": {
   "codemirror_mode": {
    "name": "ipython",
    "version": 3
   },
   "file_extension": ".py",
   "mimetype": "text/x-python",
   "name": "python",
   "nbconvert_exporter": "python",
   "pygments_lexer": "ipython3",
   "version": "3.6.6"
  }
 },
 "nbformat": 4,
 "nbformat_minor": 4
}
