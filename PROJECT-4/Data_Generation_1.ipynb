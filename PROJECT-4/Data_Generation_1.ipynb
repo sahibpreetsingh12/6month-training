{
  "nbformat": 4,
  "nbformat_minor": 0,
  "metadata": {
    "kernelspec": {
      "display_name": "Python 2",
      "language": "python",
      "name": "python2"
    },
    "language_info": {
      "codemirror_mode": {
        "name": "ipython",
        "version": 2
      },
      "file_extension": ".py",
      "mimetype": "text/x-python",
      "name": "python",
      "nbconvert_exporter": "python",
      "pygments_lexer": "ipython2",
      "version": "2.7.13"
    },
    "colab": {
      "name": "Data_Generation_1.ipynb",
      "provenance": [],
      "toc_visible": true
    }
  },
  "cells": [
    {
      "cell_type": "markdown",
      "metadata": {
        "id": "afQczCxgKuff",
        "colab_type": "text"
      },
      "source": [
        "## Generating data for Number of sessions per User"
      ]
    },
    {
      "cell_type": "code",
      "metadata": {
        "id": "ZdyFP7wFKufk",
        "colab_type": "code",
        "colab": {}
      },
      "source": [
        "import scipy\n",
        "from  scipy   import   stats\n",
        "import random"
      ],
      "execution_count": 0,
      "outputs": []
    },
    {
      "cell_type": "code",
      "metadata": {
        "id": "GQHErqplLHYv",
        "colab_type": "code",
        "colab": {}
      },
      "source": [
        "import numpy as np\n",
        "import matplotlib.pyplot as plt\n"
      ],
      "execution_count": 0,
      "outputs": []
    },
    {
      "cell_type": "code",
      "metadata": {
        "id": "k60ECyQiKuf0",
        "colab_type": "code",
        "colab": {}
      },
      "source": [
        "\n",
        "\n",
        "def generate():\n",
        "  \n",
        "\n",
        "\n",
        "  user_session = stats.geom.rvs(size=4000,p=0.3,random_state=42)\n",
        "  return user_session\n",
        "          # Generate geometric data\n",
        "         # With success prob 0.3\n",
        "        \n",
        "                                \n",
        "user_session=generate()\n"
      ],
      "execution_count": 0,
      "outputs": []
    },
    {
      "cell_type": "code",
      "metadata": {
        "id": "6ORzzSlnKugC",
        "colab_type": "code",
        "outputId": "28dd61f4-4739-48b5-a82d-5daf547602ff",
        "colab": {
          "base_uri": "https://localhost:8080/",
          "height": 34
        }
      },
      "source": [
        "user_session.size,user_session.max(),user_session.min()"
      ],
      "execution_count": 0,
      "outputs": [
        {
          "output_type": "execute_result",
          "data": {
            "text/plain": [
              "(4000, 23, 1)"
            ]
          },
          "metadata": {
            "tags": []
          },
          "execution_count": 4
        }
      ]
    },
    {
      "cell_type": "code",
      "metadata": {
        "id": "Yzr_YzJ9KugR",
        "colab_type": "code",
        "outputId": "692f2cd4-d909-4c0a-8848-bca1e53550f9",
        "colab": {
          "base_uri": "https://localhost:8080/",
          "height": 34
        }
      },
      "source": [
        "user_session[:10],sum(user_session)"
      ],
      "execution_count": 0,
      "outputs": [
        {
          "output_type": "execute_result",
          "data": {
            "text/plain": [
              "(array([2, 9, 4, 3, 1, 1, 1, 6, 3, 4]), 13258)"
            ]
          },
          "metadata": {
            "tags": []
          },
          "execution_count": 5
        }
      ]
    },
    {
      "cell_type": "code",
      "metadata": {
        "id": "m8y-qEB_Kugd",
        "colab_type": "code",
        "outputId": "8487776e-4be1-47cf-cb28-f74f837963e4",
        "colab": {
          "base_uri": "https://localhost:8080/",
          "height": 386
        }
      },
      "source": [
        "count_dict = {x : list(user_session).count(x) for x in user_session}\n",
        "count_dict"
      ],
      "execution_count": 0,
      "outputs": [
        {
          "output_type": "execute_result",
          "data": {
            "text/plain": [
              "{1: 1228,\n",
              " 2: 811,\n",
              " 3: 590,\n",
              " 4: 411,\n",
              " 5: 302,\n",
              " 6: 199,\n",
              " 7: 134,\n",
              " 8: 89,\n",
              " 9: 68,\n",
              " 10: 63,\n",
              " 11: 28,\n",
              " 12: 25,\n",
              " 13: 16,\n",
              " 14: 11,\n",
              " 15: 6,\n",
              " 16: 6,\n",
              " 17: 6,\n",
              " 18: 3,\n",
              " 20: 1,\n",
              " 21: 1,\n",
              " 22: 1,\n",
              " 23: 1}"
            ]
          },
          "metadata": {
            "tags": []
          },
          "execution_count": 6
        }
      ]
    },
    {
      "cell_type": "code",
      "metadata": {
        "id": "CGko8GRJKugo",
        "colab_type": "code",
        "outputId": "c4031ce6-cd06-437b-ade8-509f0a41c38b",
        "colab": {
          "base_uri": "https://localhost:8080/",
          "height": 295
        }
      },
      "source": [
        "   #depicts number of users per number of sessions\n",
        "    \n",
        "bins = np.arange(0, 10, 1) # fixed bin size\n",
        "\n",
        "plt.xlim([min(user_session)-1, max(user_session) +1])\n",
        "\n",
        "plt.hist(user_session, bins=bins, alpha=0.5)\n",
        "plt.title(\"Count of Number of users per session\")\n",
        "plt.xlabel('Number of sessions (bin size = 1)')\n",
        "plt.ylabel('count')\n",
        "\n",
        "plt.show()"
      ],
      "execution_count": 0,
      "outputs": [
        {
          "output_type": "display_data",
          "data": {
            "image/png": "[encoded data removed]",
            "text/plain": [
              "<Figure size 432x288 with 1 Axes>"
            ]
          },
          "metadata": {
            "tags": [],
            "needs_background": "light"
          }
        }
      ]
    },
    {
      "cell_type": "code",
      "metadata": {
        "id": "qp8tWEcCKug0",
        "colab_type": "code",
        "colab": {}
      },
      "source": [
        "import numpy as np\n",
        "user_Id = range(1,4000)"
      ],
      "execution_count": 0,
      "outputs": []
    },
    {
      "cell_type": "code",
      "metadata": {
        "id": "V0gvOghUKuhG",
        "colab_type": "code",
        "colab": {}
      },
      "source": [
        "userId_session = zip(user_Id,[10*i for i in user_session])"
      ],
      "execution_count": 0,
      "outputs": []
    },
    {
      "cell_type": "code",
      "metadata": {
        "id": "-p9FkPFKKuhd",
        "colab_type": "code",
        "outputId": "ff9abcd7-5932-481f-b493-1c0c636e4afd",
        "colab": {
          "base_uri": "https://localhost:8080/",
          "height": 34
        }
      },
      "source": [
        "type(userId_session), userId_session[:5]"
      ],
      "execution_count": 0,
      "outputs": [
        {
          "output_type": "execute_result",
          "data": {
            "text/plain": [
              "(list, [(1, 20), (2, 90), (3, 40), (4, 30), (5, 10)])"
            ]
          },
          "metadata": {
            "tags": []
          },
          "execution_count": 231
        }
      ]
    },
    {
      "cell_type": "code",
      "metadata": {
        "id": "I_2MZLPoKuho",
        "colab_type": "code",
        "outputId": "0f98fa25-94ee-4ad9-e000-0125a966f095",
        "colab": {
          "base_uri": "https://localhost:8080/",
          "height": 34
        }
      },
      "source": [
        "#Calculating total number of articles served in a day in all sessions (may be clicked or not)\n",
        "\n",
        "sum1 = 0\n",
        "for i in range(len(userId_session)):\n",
        "    \n",
        "    sum1 += userId_session[i][1]\n",
        "    \n",
        "sum1    "
      ],
      "execution_count": 0,
      "outputs": [
        {
          "output_type": "execute_result",
          "data": {
            "text/plain": [
              "132570"
            ]
          },
          "metadata": {
            "tags": []
          },
          "execution_count": 10
        }
      ]
    },
    {
      "cell_type": "code",
      "metadata": {
        "id": "iSG5ix4qKuhz",
        "colab_type": "code",
        "colab": {}
      },
      "source": [
        "UserIDs = []\n",
        "\n",
        "for i in range(len(userId_session)):\n",
        "    \n",
        "    for j in range(userId_session[i][1]):\n",
        "        UserIDs.append(userId_session[i][0])\n",
        "            "
      ],
      "execution_count": 0,
      "outputs": []
    },
    {
      "cell_type": "code",
      "metadata": {
        "id": "dkTX_oVnKuiD",
        "colab_type": "code",
        "outputId": "26a4d455-10fc-4016-837d-34452f654e6e",
        "colab": {
          "base_uri": "https://localhost:8080/",
          "height": 34
        }
      },
      "source": [
        "len(UserIDs)   #matches with sum1 above"
      ],
      "execution_count": 0,
      "outputs": [
        {
          "output_type": "execute_result",
          "data": {
            "text/plain": [
              "132570"
            ]
          },
          "metadata": {
            "tags": []
          },
          "execution_count": 234
        }
      ]
    },
    {
      "cell_type": "code",
      "metadata": {
        "id": "qsnDd_5PKuiO",
        "colab_type": "code",
        "outputId": "ae505171-b999-439e-b4ea-7397988ad3fd",
        "colab": {
          "base_uri": "https://localhost:8080/",
          "height": 34
        }
      },
      "source": [
        "UserIDs[:20]   # UserIds generated for all sessions the user opens"
      ],
      "execution_count": 0,
      "outputs": [
        {
          "output_type": "execute_result",
          "data": {
            "text/plain": [
              "[1, 1, 1, 1, 1, 1, 1, 1, 1, 1, 1, 1, 1, 1, 1, 1, 1, 1, 1, 1]"
            ]
          },
          "metadata": {
            "tags": []
          },
          "execution_count": 235
        }
      ]
    },
    {
      "cell_type": "code",
      "metadata": {
        "id": "aZ69Q06CKuiZ",
        "colab_type": "code",
        "outputId": "0706c7b0-028b-466a-89fc-ce2d83bbd8ca",
        "colab": {
          "base_uri": "https://localhost:8080/",
          "height": 34
        }
      },
      "source": [
        "session_list = list(user_session)\n",
        "session_list[:10]"
      ],
      "execution_count": 0,
      "outputs": [
        {
          "output_type": "execute_result",
          "data": {
            "text/plain": [
              "[2, 9, 4, 3, 1, 1, 1, 6, 3, 4]"
            ]
          },
          "metadata": {
            "tags": []
          },
          "execution_count": 12
        }
      ]
    },
    {
      "cell_type": "code",
      "metadata": {
        "id": "cO-ShKNYKuij",
        "colab_type": "code",
        "colab": {}
      },
      "source": [
        "session_Id =[]\n",
        "\n",
        "for i in session_list:\n",
        "    \n",
        "    for j in range(1,i+1):\n",
        "#         print j\n",
        "        session_Id.append([j for i in range(10)])\n",
        "        \n",
        "  "
      ],
      "execution_count": 0,
      "outputs": []
    },
    {
      "cell_type": "code",
      "metadata": {
        "id": "fRZexGygMnbm",
        "colab_type": "code",
        "outputId": "de3068db-a9ff-42d9-f431-5667e69718cd",
        "colab": {
          "base_uri": "https://localhost:8080/",
          "height": 101
        }
      },
      "source": [
        "session_Id[:5]"
      ],
      "execution_count": 0,
      "outputs": [
        {
          "output_type": "execute_result",
          "data": {
            "text/plain": [
              "[[1, 1, 1, 1, 1, 1, 1, 1, 1, 1],\n",
              " [2, 2, 2, 2, 2, 2, 2, 2, 2, 2],\n",
              " [1, 1, 1, 1, 1, 1, 1, 1, 1, 1],\n",
              " [2, 2, 2, 2, 2, 2, 2, 2, 2, 2],\n",
              " [3, 3, 3, 3, 3, 3, 3, 3, 3, 3]]"
            ]
          },
          "metadata": {
            "tags": []
          },
          "execution_count": 17
        }
      ]
    },
    {
      "cell_type": "code",
      "metadata": {
        "id": "S3Kq4U6MKuiv",
        "colab_type": "code",
        "colab": {}
      },
      "source": [
        "session_Id = np.array(session_Id).flatten()"
      ],
      "execution_count": 0,
      "outputs": []
    },
    {
      "cell_type": "code",
      "metadata": {
        "id": "aHfA8XMWKui8",
        "colab_type": "code",
        "outputId": "8dbdfccb-f35d-40be-8865-129ae02ce653",
        "colab": {
          "base_uri": "https://localhost:8080/",
          "height": 34
        }
      },
      "source": [
        "session_Id.shape"
      ],
      "execution_count": 0,
      "outputs": [
        {
          "output_type": "execute_result",
          "data": {
            "text/plain": [
              "(134600,)"
            ]
          },
          "metadata": {
            "tags": []
          },
          "execution_count": 19
        }
      ]
    },
    {
      "cell_type": "code",
      "metadata": {
        "id": "3mfTGHMtKujO",
        "colab_type": "code",
        "colab": {}
      },
      "source": [
        "User_session = zip(UserIDs,session_Id )"
      ],
      "execution_count": 0,
      "outputs": []
    },
    {
      "cell_type": "code",
      "metadata": {
        "id": "g0DxvHXUKujY",
        "colab_type": "code",
        "outputId": "776a142d-14f4-4100-e160-784c509bf16d",
        "colab": {
          "base_uri": "https://localhost:8080/",
          "height": 34
        }
      },
      "source": [
        "len(User_session),type(User_session)"
      ],
      "execution_count": 0,
      "outputs": [
        {
          "output_type": "execute_result",
          "data": {
            "text/plain": [
              "(132570, list)"
            ]
          },
          "metadata": {
            "tags": []
          },
          "execution_count": 62
        }
      ]
    },
    {
      "cell_type": "code",
      "metadata": {
        "id": "HImQ_rxQNnin",
        "colab_type": "code",
        "outputId": "52ca332c-101d-4af3-ea13-ff4e72361546",
        "colab": {
          "base_uri": "https://localhost:8080/",
          "height": 420
        }
      },
      "source": [
        "User_session[:24]"
      ],
      "execution_count": 0,
      "outputs": [
        {
          "output_type": "execute_result",
          "data": {
            "text/plain": [
              "[(1, 1),\n",
              " (1, 1),\n",
              " (1, 1),\n",
              " (1, 1),\n",
              " (1, 1),\n",
              " (1, 1),\n",
              " (1, 1),\n",
              " (1, 1),\n",
              " (1, 1),\n",
              " (1, 1),\n",
              " (1, 2),\n",
              " (1, 2),\n",
              " (1, 2),\n",
              " (1, 2),\n",
              " (1, 2),\n",
              " (1, 2),\n",
              " (1, 2),\n",
              " (1, 2),\n",
              " (1, 2),\n",
              " (1, 2),\n",
              " (2, 1),\n",
              " (2, 1),\n",
              " (2, 1),\n",
              " (2, 1)]"
            ]
          },
          "metadata": {
            "tags": []
          },
          "execution_count": 22
        }
      ]
    },
    {
      "cell_type": "code",
      "metadata": {
        "id": "D84jQB2YKujh",
        "colab_type": "code",
        "colab": {}
      },
      "source": [
        "import pandas as pd\n",
        "\n",
        "df = pd.DataFrame(User_session, columns=['UserId', 'SessionId'])"
      ],
      "execution_count": 0,
      "outputs": []
    },
    {
      "cell_type": "code",
      "metadata": {
        "id": "F3ep-TLBKujq",
        "colab_type": "code",
        "outputId": "6c15b497-0a95-4abd-96ab-adcb1775c984",
        "colab": {
          "base_uri": "https://localhost:8080/",
          "height": 195
        }
      },
      "source": [
        "df.head()"
      ],
      "execution_count": 0,
      "outputs": [
        {
          "output_type": "execute_result",
          "data": {
            "text/plain": [
              "   UserId  SessionId\n",
              "0       1          1\n",
              "1       1          1\n",
              "2       1          1\n",
              "3       1          1\n",
              "4       1          1"
            ],
            "text/html": [
              "<div>\n",
              "<style scoped>\n",
              "    .dataframe tbody tr th:only-of-type {\n",
              "        vertical-align: middle;\n",
              "    }\n",
              "\n",
              "    .dataframe tbody tr th {\n",
              "        vertical-align: top;\n",
              "    }\n",
              "\n",
              "    .dataframe thead th {\n",
              "        text-align: right;\n",
              "    }\n",
              "</style>\n",
              "<table border=\"1\" class=\"dataframe\">\n",
              "  <thead>\n",
              "    <tr style=\"text-align: right;\">\n",
              "      <th></th>\n",
              "      <th>UserId</th>\n",
              "      <th>SessionId</th>\n",
              "    </tr>\n",
              "  </thead>\n",
              "  <tbody>\n",
              "    <tr>\n",
              "      <th>0</th>\n",
              "      <td>1</td>\n",
              "      <td>1</td>\n",
              "    </tr>\n",
              "    <tr>\n",
              "      <th>1</th>\n",
              "      <td>1</td>\n",
              "      <td>1</td>\n",
              "    </tr>\n",
              "    <tr>\n",
              "      <th>2</th>\n",
              "      <td>1</td>\n",
              "      <td>1</td>\n",
              "    </tr>\n",
              "    <tr>\n",
              "      <th>3</th>\n",
              "      <td>1</td>\n",
              "      <td>1</td>\n",
              "    </tr>\n",
              "    <tr>\n",
              "      <th>4</th>\n",
              "      <td>1</td>\n",
              "      <td>1</td>\n",
              "    </tr>\n",
              "  </tbody>\n",
              "</table>\n",
              "</div>"
            ]
          },
          "metadata": {
            "tags": []
          },
          "execution_count": 25
        }
      ]
    },
    {
      "cell_type": "code",
      "metadata": {
        "id": "nePcSllBKujz",
        "colab_type": "code",
        "colab": {}
      },
      "source": [
        "Article_Id = range(4829)"
      ],
      "execution_count": 0,
      "outputs": []
    },
    {
      "cell_type": "code",
      "metadata": {
        "id": "tJTlNRoEKuj9",
        "colab_type": "code",
        "outputId": "1b1f0576-c80f-448e-bd14-122450f01ad4",
        "colab": {
          "base_uri": "https://localhost:8080/",
          "height": 34
        }
      },
      "source": [
        "Article_Id = Article_Id*(len(UserIDs)/4829)  \n",
        "\n",
        "len(Article_Id)"
      ],
      "execution_count": 0,
      "outputs": [
        {
          "output_type": "execute_result",
          "data": {
            "text/plain": [
              "130383"
            ]
          },
          "metadata": {
            "tags": []
          },
          "execution_count": 18
        }
      ]
    },
    {
      "cell_type": "code",
      "metadata": {
        "id": "9779YcTpgQje",
        "colab_type": "code",
        "outputId": "844d3d4f-8f7c-4bc8-e8be-980c28f918ad",
        "colab": {
          "base_uri": "https://localhost:8080/",
          "height": 34
        }
      },
      "source": [
        "len(User_session)-len(Article_Id)"
      ],
      "execution_count": 0,
      "outputs": [
        {
          "output_type": "execute_result",
          "data": {
            "text/plain": [
              "2187"
            ]
          },
          "metadata": {
            "tags": []
          },
          "execution_count": 19
        }
      ]
    },
    {
      "cell_type": "code",
      "metadata": {
        "id": "syjmvbQQKukG",
        "colab_type": "code",
        "colab": {}
      },
      "source": [
        "import random\n",
        "for x in range(len(User_session)-len(Article_Id)):# to   make square   matrix\n",
        "    Article_Id.append(random.randint(1,4829))"
      ],
      "execution_count": 0,
      "outputs": []
    },
    {
      "cell_type": "code",
      "metadata": {
        "id": "zpaggTz9KukO",
        "colab_type": "code",
        "outputId": "470c64b3-9685-4898-9cd9-2bec40644233",
        "colab": {
          "base_uri": "https://localhost:8080/",
          "height": 34
        }
      },
      "source": [
        "len(Article_Id)"
      ],
      "execution_count": 0,
      "outputs": [
        {
          "output_type": "execute_result",
          "data": {
            "text/plain": [
              "132570"
            ]
          },
          "metadata": {
            "tags": []
          },
          "execution_count": 245
        }
      ]
    },
    {
      "cell_type": "code",
      "metadata": {
        "id": "gt2zNWRkKukb",
        "colab_type": "code",
        "colab": {}
      },
      "source": [
        "from random import shuffle\n",
        "shuffle(Article_Id)"
      ],
      "execution_count": 0,
      "outputs": []
    },
    {
      "cell_type": "code",
      "metadata": {
        "id": "EJZ_hfsfKukh",
        "colab_type": "code",
        "colab": {}
      },
      "source": [
        "df['ArticleId_served'] = Article_Id"
      ],
      "execution_count": 0,
      "outputs": []
    },
    {
      "cell_type": "code",
      "metadata": {
        "id": "9mOy0iY6Kukm",
        "colab_type": "code",
        "outputId": "b10f1328-0a3b-4230-8a5c-18269d3ef9d9",
        "colab": {
          "base_uri": "https://localhost:8080/",
          "height": 343
        }
      },
      "source": [
        "df.head(10)"
      ],
      "execution_count": 0,
      "outputs": [
        {
          "output_type": "execute_result",
          "data": {
            "text/plain": [
              "   UserId  SessionId  ArticleId_served\n",
              "0       1          1              4734\n",
              "1       1          1              2416\n",
              "2       1          1              3796\n",
              "3       1          1              1579\n",
              "4       1          1              3517\n",
              "5       1          1               443\n",
              "6       1          1              2722\n",
              "7       1          1              1574\n",
              "8       1          1              1664\n",
              "9       1          1              3529"
            ],
            "text/html": [
              "<div>\n",
              "<style scoped>\n",
              "    .dataframe tbody tr th:only-of-type {\n",
              "        vertical-align: middle;\n",
              "    }\n",
              "\n",
              "    .dataframe tbody tr th {\n",
              "        vertical-align: top;\n",
              "    }\n",
              "\n",
              "    .dataframe thead th {\n",
              "        text-align: right;\n",
              "    }\n",
              "</style>\n",
              "<table border=\"1\" class=\"dataframe\">\n",
              "  <thead>\n",
              "    <tr style=\"text-align: right;\">\n",
              "      <th></th>\n",
              "      <th>UserId</th>\n",
              "      <th>SessionId</th>\n",
              "      <th>ArticleId_served</th>\n",
              "    </tr>\n",
              "  </thead>\n",
              "  <tbody>\n",
              "    <tr>\n",
              "      <th>0</th>\n",
              "      <td>1</td>\n",
              "      <td>1</td>\n",
              "      <td>4734</td>\n",
              "    </tr>\n",
              "    <tr>\n",
              "      <th>1</th>\n",
              "      <td>1</td>\n",
              "      <td>1</td>\n",
              "      <td>2416</td>\n",
              "    </tr>\n",
              "    <tr>\n",
              "      <th>2</th>\n",
              "      <td>1</td>\n",
              "      <td>1</td>\n",
              "      <td>3796</td>\n",
              "    </tr>\n",
              "    <tr>\n",
              "      <th>3</th>\n",
              "      <td>1</td>\n",
              "      <td>1</td>\n",
              "      <td>1579</td>\n",
              "    </tr>\n",
              "    <tr>\n",
              "      <th>4</th>\n",
              "      <td>1</td>\n",
              "      <td>1</td>\n",
              "      <td>3517</td>\n",
              "    </tr>\n",
              "    <tr>\n",
              "      <th>5</th>\n",
              "      <td>1</td>\n",
              "      <td>1</td>\n",
              "      <td>443</td>\n",
              "    </tr>\n",
              "    <tr>\n",
              "      <th>6</th>\n",
              "      <td>1</td>\n",
              "      <td>1</td>\n",
              "      <td>2722</td>\n",
              "    </tr>\n",
              "    <tr>\n",
              "      <th>7</th>\n",
              "      <td>1</td>\n",
              "      <td>1</td>\n",
              "      <td>1574</td>\n",
              "    </tr>\n",
              "    <tr>\n",
              "      <th>8</th>\n",
              "      <td>1</td>\n",
              "      <td>1</td>\n",
              "      <td>1664</td>\n",
              "    </tr>\n",
              "    <tr>\n",
              "      <th>9</th>\n",
              "      <td>1</td>\n",
              "      <td>1</td>\n",
              "      <td>3529</td>\n",
              "    </tr>\n",
              "  </tbody>\n",
              "</table>\n",
              "</div>"
            ]
          },
          "metadata": {
            "tags": []
          },
          "execution_count": 248
        }
      ]
    },
    {
      "cell_type": "code",
      "metadata": {
        "id": "qRI-shaTKukq",
        "colab_type": "code",
        "outputId": "594777d3-e849-4107-ac2b-3a46e2a61e6f",
        "colab": {
          "base_uri": "https://localhost:8080/",
          "height": 34
        }
      },
      "source": [
        "len(df)"
      ],
      "execution_count": 0,
      "outputs": [
        {
          "output_type": "execute_result",
          "data": {
            "text/plain": [
              "134590"
            ]
          },
          "metadata": {
            "tags": []
          },
          "execution_count": 34
        }
      ]
    },
    {
      "cell_type": "code",
      "metadata": {
        "id": "x95FdHUQRFoH",
        "colab_type": "code",
        "outputId": "34d1146a-4d69-4229-fd1e-23ba69501a52",
        "colab": {
          "base_uri": "https://localhost:8080/",
          "height": 353
        }
      },
      "source": [
        "df1=df.copy()\n",
        "groups1=df1.groupby(['UserId'])\n",
        "groups1.get_group(1).ArticleId_served.to_list()"
      ],
      "execution_count": 0,
      "outputs": [
        {
          "output_type": "execute_result",
          "data": {
            "text/plain": [
              "[1174,\n",
              " 3421,\n",
              " 3696,\n",
              " 1124,\n",
              " 3364,\n",
              " 3438,\n",
              " 2161,\n",
              " 4465,\n",
              " 1077,\n",
              " 3704,\n",
              " 2531,\n",
              " 2175,\n",
              " 4469,\n",
              " 3721,\n",
              " 2897,\n",
              " 3400,\n",
              " 1511,\n",
              " 4311,\n",
              " 2221,\n",
              " 4759]"
            ]
          },
          "metadata": {
            "tags": []
          },
          "execution_count": 23
        }
      ]
    },
    {
      "cell_type": "code",
      "metadata": {
        "id": "O3dw1GflS3_q",
        "colab_type": "code",
        "colab": {}
      },
      "source": [
        "df1.UserId.unique()\n",
        "user_table={}\n",
        "for  i  in range(1,len(df1.UserId.unique())+1):\n",
        "  user_table[i]=groups1.get_group(i).ArticleId_served.to_list()"
      ],
      "execution_count": 0,
      "outputs": []
    },
    {
      "cell_type": "code",
      "metadata": {
        "id": "KpzCD9FeT_bz",
        "colab_type": "code",
        "outputId": "85bf279b-fe09-43b0-ab51-5add551c060e",
        "colab": {
          "base_uri": "https://localhost:8080/",
          "height": 34
        }
      },
      "source": [
        "s = (3999,4830)\n",
        "\n",
        "zero_user_table=np.zeros(s)\n",
        "zero_user_table.shape"
      ],
      "execution_count": 0,
      "outputs": [
        {
          "output_type": "execute_result",
          "data": {
            "text/plain": [
              "(3999, 4830)"
            ]
          },
          "metadata": {
            "tags": []
          },
          "execution_count": 25
        }
      ]
    },
    {
      "cell_type": "code",
      "metadata": {
        "id": "r_GVBEDpSmmW",
        "colab_type": "code",
        "colab": {}
      },
      "source": [
        "for i in  range(1,3999):\n",
        "  ls=user_table[i]\n",
        "  for j  in  ls:\n",
        "    zero_user_table[i][j]=1"
      ],
      "execution_count": 0,
      "outputs": []
    },
    {
      "cell_type": "code",
      "metadata": {
        "id": "tpEmcmCouXIs",
        "colab_type": "code",
        "outputId": "026b98d1-343c-4867-dbdc-c7c21a2e1585",
        "colab": {
          "base_uri": "https://localhost:8080/",
          "height": 34
        }
      },
      "source": [
        "zero_user_table[1]"
      ],
      "execution_count": 0,
      "outputs": [
        {
          "output_type": "execute_result",
          "data": {
            "text/plain": [
              "array([0., 0., 0., ..., 0., 0., 0.])"
            ]
          },
          "metadata": {
            "tags": []
          },
          "execution_count": 75
        }
      ]
    },
    {
      "cell_type": "code",
      "metadata": {
        "id": "uUYvHVB6tlHv",
        "colab_type": "code",
        "colab": {}
      },
      "source": [
        "np.save('user-item-table',zero_user_table)"
      ],
      "execution_count": 0,
      "outputs": []
    },
    {
      "cell_type": "markdown",
      "metadata": {
        "id": "4MDPSxgOKukw",
        "colab_type": "text"
      },
      "source": [
        "## Now, lets model number of clicks per session"
      ]
    },
    {
      "cell_type": "markdown",
      "metadata": {
        "id": "c5Vn4PMntvIg",
        "colab_type": "text"
      },
      "source": [
        "We  are  assuming no session is diffrent from other seesion\n",
        "May be in a peak session or at some time of breaking news more people come to website.\n",
        "But due to assumption of poisson distribution we did that\n",
        "\n"
      ]
    },
    {
      "cell_type": "code",
      "metadata": {
        "id": "xmTzhdtKKukx",
        "colab_type": "code",
        "outputId": "2c916884-141f-46ab-b449-f3638a45d877",
        "colab": {
          "base_uri": "https://localhost:8080/",
          "height": 67
        }
      },
      "source": [
        "from scipy import stats\n",
        "\n",
        "\n",
        "#https://stackoverflow.com/questions/48409212/what-is-the-meaning-of-mu-loc-and-size-in-the-scipy-stats-poisson\n",
        "\n",
        "# mu stands for mean\n",
        "\n",
        "# size  stands for number of random variables we want to generate\n",
        "clicks_per_session = stats.poisson.rvs(size=len(df)/10,  # Generate Poisson data\n",
        "                                   mu=1 , loc = 1,random_state=42 )       # Average clicks per session = 1\n",
        "\n",
        "# divided by  10 \n",
        "\n",
        "# Print table of counts\n",
        "print( pd.crosstab(index=\"counts\", columns= clicks_per_session)) # to see  the frequency  of clicks in a session\n"
      ],
      "execution_count": 0,
      "outputs": [
        {
          "output_type": "stream",
          "text": [
            "col_0      1     2     3    4    5   6  7  8\n",
            "row_0                                       \n",
            "counts  4877  4885  2413  837  199  39  6  1\n"
          ],
          "name": "stdout"
        }
      ]
    },
    {
      "cell_type": "code",
      "metadata": {
        "id": "zROtJj4tsHvf",
        "colab_type": "code",
        "outputId": "7763ec2a-86c1-4953-f4a2-28bc0d94c01f",
        "colab": {
          "base_uri": "https://localhost:8080/",
          "height": 34
        }
      },
      "source": [
        "len(clicks_per_session)"
      ],
      "execution_count": 0,
      "outputs": [
        {
          "output_type": "execute_result",
          "data": {
            "text/plain": [
              "13257"
            ]
          },
          "metadata": {
            "tags": []
          },
          "execution_count": 255
        }
      ]
    },
    {
      "cell_type": "code",
      "metadata": {
        "id": "MyO_sBaNKuk1",
        "colab_type": "code",
        "outputId": "c1c16db3-c67a-4fb4-fb7e-cdac6cc3cc59",
        "colab": {
          "base_uri": "https://localhost:8080/",
          "height": 34
        }
      },
      "source": [
        "clicks_per_session,len(clicks_per_session)"
      ],
      "execution_count": 0,
      "outputs": [
        {
          "output_type": "execute_result",
          "data": {
            "text/plain": [
              "(array([2, 3, 1, ..., 1, 2, 2]), 13257)"
            ]
          },
          "metadata": {
            "tags": []
          },
          "execution_count": 28
        }
      ]
    },
    {
      "cell_type": "code",
      "metadata": {
        "id": "pMEYK4N4Kuk6",
        "colab_type": "code",
        "colab": {}
      },
      "source": [
        "\n",
        "def click_checker():\n",
        "  clicked_or_not = []\n",
        "  random.seed(12)\n",
        "  for clicks in clicks_per_session:\n",
        "      \n",
        "      session_list = [0 for i in range(10-clicks)] \n",
        "      #for ex if there are 3 clicks in a session we will insert 10-3=7. Seven zeros that means\n",
        "      # any 7 items were not clicked\n",
        "      \n",
        "      for i in range(clicks):\n",
        "          \n",
        "          session_list.append(1) # append ones for no of clicks per session\n",
        "          \n",
        "      random.shuffle(session_list) #user can click any item from 10 articles shown to it\n",
        "      clicked_or_not.append(session_list)\n",
        "  return clicked_or_not\n",
        "clicked_or_not=click_checker()\n",
        "  "
      ],
      "execution_count": 0,
      "outputs": []
    },
    {
      "cell_type": "code",
      "metadata": {
        "id": "k96iVoQSv5fc",
        "colab_type": "code",
        "outputId": "c98f0824-2d24-4fc1-d9ac-e5968ef3cc31",
        "colab": {
          "base_uri": "https://localhost:8080/",
          "height": 34
        }
      },
      "source": [
        "clicked_or_not[0]"
      ],
      "execution_count": 0,
      "outputs": [
        {
          "output_type": "execute_result",
          "data": {
            "text/plain": [
              "[0, 0, 0, 1, 0, 0, 0, 1, 0, 0]"
            ]
          },
          "metadata": {
            "tags": []
          },
          "execution_count": 30
        }
      ]
    },
    {
      "cell_type": "code",
      "metadata": {
        "id": "c-sY9-1cKuk_",
        "colab_type": "code",
        "outputId": "32fdc18c-5d4e-4b49-cbbf-d20e94c1dff0",
        "colab": {
          "base_uri": "https://localhost:8080/",
          "height": 34
        }
      },
      "source": [
        "len(clicked_or_not)  "
      ],
      "execution_count": 0,
      "outputs": [
        {
          "output_type": "execute_result",
          "data": {
            "text/plain": [
              "13257"
            ]
          },
          "metadata": {
            "tags": []
          },
          "execution_count": 259
        }
      ]
    },
    {
      "cell_type": "code",
      "metadata": {
        "id": "WaCdjGN0KulD",
        "colab_type": "code",
        "outputId": "12330209-4be1-45c2-e306-384c39165f69",
        "colab": {
          "base_uri": "https://localhost:8080/",
          "height": 34
        }
      },
      "source": [
        "click = np.array(clicked_or_not).flatten()\n",
        "click.shape,click.sum()                  #Converted into a binary array depicting clicks and No-click\n",
        "\n",
        "click_sum=click.sum()\n",
        "print(click_sum)"
      ],
      "execution_count": 0,
      "outputs": [
        {
          "output_type": "stream",
          "text": [
            "26513\n"
          ],
          "name": "stdout"
        }
      ]
    },
    {
      "cell_type": "code",
      "metadata": {
        "id": "5-HTENGOKulM",
        "colab_type": "code",
        "colab": {}
      },
      "source": [
        "df['Click'] = click"
      ],
      "execution_count": 0,
      "outputs": []
    },
    {
      "cell_type": "code",
      "metadata": {
        "id": "VBncOTUsKulS",
        "colab_type": "code",
        "outputId": "f7410719-9907-4cc9-c4bd-cb198d18f4fe",
        "colab": {
          "base_uri": "https://localhost:8080/",
          "height": 77
        }
      },
      "source": [
        "df.head(1)"
      ],
      "execution_count": 0,
      "outputs": [
        {
          "output_type": "execute_result",
          "data": {
            "text/plain": [
              "   UserId  SessionId  ArticleId_served  Click\n",
              "0       1          1              1174      0"
            ],
            "text/html": [
              "<div>\n",
              "<style scoped>\n",
              "    .dataframe tbody tr th:only-of-type {\n",
              "        vertical-align: middle;\n",
              "    }\n",
              "\n",
              "    .dataframe tbody tr th {\n",
              "        vertical-align: top;\n",
              "    }\n",
              "\n",
              "    .dataframe thead th {\n",
              "        text-align: right;\n",
              "    }\n",
              "</style>\n",
              "<table border=\"1\" class=\"dataframe\">\n",
              "  <thead>\n",
              "    <tr style=\"text-align: right;\">\n",
              "      <th></th>\n",
              "      <th>UserId</th>\n",
              "      <th>SessionId</th>\n",
              "      <th>ArticleId_served</th>\n",
              "      <th>Click</th>\n",
              "    </tr>\n",
              "  </thead>\n",
              "  <tbody>\n",
              "    <tr>\n",
              "      <th>0</th>\n",
              "      <td>1</td>\n",
              "      <td>1</td>\n",
              "      <td>1174</td>\n",
              "      <td>0</td>\n",
              "    </tr>\n",
              "  </tbody>\n",
              "</table>\n",
              "</div>"
            ]
          },
          "metadata": {
            "tags": []
          },
          "execution_count": 41
        }
      ]
    },
    {
      "cell_type": "code",
      "metadata": {
        "id": "cZRvDapxEVac",
        "colab_type": "code",
        "outputId": "a36e857e-e808-4b64-871f-0f7171773dd5",
        "colab": {
          "base_uri": "https://localhost:8080/",
          "height": 34
        }
      },
      "source": [
        "len(list(df['ArticleId_served'].unique()))"
      ],
      "execution_count": 0,
      "outputs": [
        {
          "output_type": "execute_result",
          "data": {
            "text/plain": [
              "4830"
            ]
          },
          "metadata": {
            "tags": []
          },
          "execution_count": 50
        }
      ]
    },
    {
      "cell_type": "code",
      "metadata": {
        "id": "Y3mhV2wzCxns",
        "colab_type": "code",
        "outputId": "42abc18c-2bd4-4704-fac3-50c9b511a7f3",
        "colab": {
          "base_uri": "https://localhost:8080/",
          "height": 1000
        }
      },
      "source": [
        "\n",
        "clicks=pd.DataFrame(columns=['Article','Total_clicks'])\n",
        "for i in range(len(list(df['ArticleId_served'].unique()))):\n",
        "  _temp=df.groupby('ArticleId_served')\n",
        "  _1=_temp.get_group(i)['Click'].sum()\n",
        "  clicks=clicks.append({'Article':i,'Total_clicks':_1},ignore_index=True)"
      ],
      "execution_count": 0,
      "outputs": [
        {
          "output_type": "stream",
          "text": [
            "8\n"
          ],
          "name": "stdout"
        },
        {
          "output_type": "execute_result",
          "data": {
            "text/plain": [
              "   Article Total_clicks\n",
              "0        0            8\n",
              "1        1            4\n",
              "2        2            2\n",
              "3        3            5\n",
              "4        4            5\n",
              "5        5            6\n",
              "6        6           11\n",
              "7        7            6\n",
              "8        8            4\n",
              "9        9            6\n",
              "10      10            5\n",
              "11      11           11\n",
              "12      12            2\n",
              "13      13            4\n",
              "14      14            6\n",
              "15      15            3\n",
              "16      16            6\n",
              "17      17            2\n",
              "18      18            8\n",
              "19      19            4\n",
              "20      20            6\n",
              "21      21            6\n",
              "22      22           11\n",
              "23      23            2\n",
              "24      24            6\n",
              "25      25            7\n",
              "26      26            6\n",
              "27      27            7\n",
              "28      28            7\n",
              "29      29            7\n",
              "..     ...          ...\n",
              "70      70            5\n",
              "71      71            6\n",
              "72      72            8\n",
              "73      73            3\n",
              "74      74            3\n",
              "75      75            2\n",
              "76      76            4\n",
              "77      77            5\n",
              "78      78            6\n",
              "79      79            4\n",
              "80      80            6\n",
              "81      81            4\n",
              "82      82            1\n",
              "83      83            5\n",
              "84      84            4\n",
              "85      85           10\n",
              "86      86            6\n",
              "87      87            6\n",
              "88      88            8\n",
              "89      89            7\n",
              "90      90            6\n",
              "91      91            5\n",
              "92      92            6\n",
              "93      93            5\n",
              "94      94            7\n",
              "95      95            4\n",
              "96      96            4\n",
              "97      97            2\n",
              "98      98            3\n",
              "99      99            5\n",
              "\n",
              "[100 rows x 2 columns]"
            ],
            "text/html": [
              "<div>\n",
              "<style scoped>\n",
              "    .dataframe tbody tr th:only-of-type {\n",
              "        vertical-align: middle;\n",
              "    }\n",
              "\n",
              "    .dataframe tbody tr th {\n",
              "        vertical-align: top;\n",
              "    }\n",
              "\n",
              "    .dataframe thead th {\n",
              "        text-align: right;\n",
              "    }\n",
              "</style>\n",
              "<table border=\"1\" class=\"dataframe\">\n",
              "  <thead>\n",
              "    <tr style=\"text-align: right;\">\n",
              "      <th></th>\n",
              "      <th>Article</th>\n",
              "      <th>Total_clicks</th>\n",
              "    </tr>\n",
              "  </thead>\n",
              "  <tbody>\n",
              "    <tr>\n",
              "      <th>0</th>\n",
              "      <td>0</td>\n",
              "      <td>8</td>\n",
              "    </tr>\n",
              "    <tr>\n",
              "      <th>1</th>\n",
              "      <td>1</td>\n",
              "      <td>4</td>\n",
              "    </tr>\n",
              "    <tr>\n",
              "      <th>2</th>\n",
              "      <td>2</td>\n",
              "      <td>2</td>\n",
              "    </tr>\n",
              "    <tr>\n",
              "      <th>3</th>\n",
              "      <td>3</td>\n",
              "      <td>5</td>\n",
              "    </tr>\n",
              "    <tr>\n",
              "      <th>4</th>\n",
              "      <td>4</td>\n",
              "      <td>5</td>\n",
              "    </tr>\n",
              "    <tr>\n",
              "      <th>5</th>\n",
              "      <td>5</td>\n",
              "      <td>6</td>\n",
              "    </tr>\n",
              "    <tr>\n",
              "      <th>6</th>\n",
              "      <td>6</td>\n",
              "      <td>11</td>\n",
              "    </tr>\n",
              "    <tr>\n",
              "      <th>7</th>\n",
              "      <td>7</td>\n",
              "      <td>6</td>\n",
              "    </tr>\n",
              "    <tr>\n",
              "      <th>8</th>\n",
              "      <td>8</td>\n",
              "      <td>4</td>\n",
              "    </tr>\n",
              "    <tr>\n",
              "      <th>9</th>\n",
              "      <td>9</td>\n",
              "      <td>6</td>\n",
              "    </tr>\n",
              "    <tr>\n",
              "      <th>10</th>\n",
              "      <td>10</td>\n",
              "      <td>5</td>\n",
              "    </tr>\n",
              "    <tr>\n",
              "      <th>11</th>\n",
              "      <td>11</td>\n",
              "      <td>11</td>\n",
              "    </tr>\n",
              "    <tr>\n",
              "      <th>12</th>\n",
              "      <td>12</td>\n",
              "      <td>2</td>\n",
              "    </tr>\n",
              "    <tr>\n",
              "      <th>13</th>\n",
              "      <td>13</td>\n",
              "      <td>4</td>\n",
              "    </tr>\n",
              "    <tr>\n",
              "      <th>14</th>\n",
              "      <td>14</td>\n",
              "      <td>6</td>\n",
              "    </tr>\n",
              "    <tr>\n",
              "      <th>15</th>\n",
              "      <td>15</td>\n",
              "      <td>3</td>\n",
              "    </tr>\n",
              "    <tr>\n",
              "      <th>16</th>\n",
              "      <td>16</td>\n",
              "      <td>6</td>\n",
              "    </tr>\n",
              "    <tr>\n",
              "      <th>17</th>\n",
              "      <td>17</td>\n",
              "      <td>2</td>\n",
              "    </tr>\n",
              "    <tr>\n",
              "      <th>18</th>\n",
              "      <td>18</td>\n",
              "      <td>8</td>\n",
              "    </tr>\n",
              "    <tr>\n",
              "      <th>19</th>\n",
              "      <td>19</td>\n",
              "      <td>4</td>\n",
              "    </tr>\n",
              "    <tr>\n",
              "      <th>20</th>\n",
              "      <td>20</td>\n",
              "      <td>6</td>\n",
              "    </tr>\n",
              "    <tr>\n",
              "      <th>21</th>\n",
              "      <td>21</td>\n",
              "      <td>6</td>\n",
              "    </tr>\n",
              "    <tr>\n",
              "      <th>22</th>\n",
              "      <td>22</td>\n",
              "      <td>11</td>\n",
              "    </tr>\n",
              "    <tr>\n",
              "      <th>23</th>\n",
              "      <td>23</td>\n",
              "      <td>2</td>\n",
              "    </tr>\n",
              "    <tr>\n",
              "      <th>24</th>\n",
              "      <td>24</td>\n",
              "      <td>6</td>\n",
              "    </tr>\n",
              "    <tr>\n",
              "      <th>25</th>\n",
              "      <td>25</td>\n",
              "      <td>7</td>\n",
              "    </tr>\n",
              "    <tr>\n",
              "      <th>26</th>\n",
              "      <td>26</td>\n",
              "      <td>6</td>\n",
              "    </tr>\n",
              "    <tr>\n",
              "      <th>27</th>\n",
              "      <td>27</td>\n",
              "      <td>7</td>\n",
              "    </tr>\n",
              "    <tr>\n",
              "      <th>28</th>\n",
              "      <td>28</td>\n",
              "      <td>7</td>\n",
              "    </tr>\n",
              "    <tr>\n",
              "      <th>29</th>\n",
              "      <td>29</td>\n",
              "      <td>7</td>\n",
              "    </tr>\n",
              "    <tr>\n",
              "      <th>...</th>\n",
              "      <td>...</td>\n",
              "      <td>...</td>\n",
              "    </tr>\n",
              "    <tr>\n",
              "      <th>70</th>\n",
              "      <td>70</td>\n",
              "      <td>5</td>\n",
              "    </tr>\n",
              "    <tr>\n",
              "      <th>71</th>\n",
              "      <td>71</td>\n",
              "      <td>6</td>\n",
              "    </tr>\n",
              "    <tr>\n",
              "      <th>72</th>\n",
              "      <td>72</td>\n",
              "      <td>8</td>\n",
              "    </tr>\n",
              "    <tr>\n",
              "      <th>73</th>\n",
              "      <td>73</td>\n",
              "      <td>3</td>\n",
              "    </tr>\n",
              "    <tr>\n",
              "      <th>74</th>\n",
              "      <td>74</td>\n",
              "      <td>3</td>\n",
              "    </tr>\n",
              "    <tr>\n",
              "      <th>75</th>\n",
              "      <td>75</td>\n",
              "      <td>2</td>\n",
              "    </tr>\n",
              "    <tr>\n",
              "      <th>76</th>\n",
              "      <td>76</td>\n",
              "      <td>4</td>\n",
              "    </tr>\n",
              "    <tr>\n",
              "      <th>77</th>\n",
              "      <td>77</td>\n",
              "      <td>5</td>\n",
              "    </tr>\n",
              "    <tr>\n",
              "      <th>78</th>\n",
              "      <td>78</td>\n",
              "      <td>6</td>\n",
              "    </tr>\n",
              "    <tr>\n",
              "      <th>79</th>\n",
              "      <td>79</td>\n",
              "      <td>4</td>\n",
              "    </tr>\n",
              "    <tr>\n",
              "      <th>80</th>\n",
              "      <td>80</td>\n",
              "      <td>6</td>\n",
              "    </tr>\n",
              "    <tr>\n",
              "      <th>81</th>\n",
              "      <td>81</td>\n",
              "      <td>4</td>\n",
              "    </tr>\n",
              "    <tr>\n",
              "      <th>82</th>\n",
              "      <td>82</td>\n",
              "      <td>1</td>\n",
              "    </tr>\n",
              "    <tr>\n",
              "      <th>83</th>\n",
              "      <td>83</td>\n",
              "      <td>5</td>\n",
              "    </tr>\n",
              "    <tr>\n",
              "      <th>84</th>\n",
              "      <td>84</td>\n",
              "      <td>4</td>\n",
              "    </tr>\n",
              "    <tr>\n",
              "      <th>85</th>\n",
              "      <td>85</td>\n",
              "      <td>10</td>\n",
              "    </tr>\n",
              "    <tr>\n",
              "      <th>86</th>\n",
              "      <td>86</td>\n",
              "      <td>6</td>\n",
              "    </tr>\n",
              "    <tr>\n",
              "      <th>87</th>\n",
              "      <td>87</td>\n",
              "      <td>6</td>\n",
              "    </tr>\n",
              "    <tr>\n",
              "      <th>88</th>\n",
              "      <td>88</td>\n",
              "      <td>8</td>\n",
              "    </tr>\n",
              "    <tr>\n",
              "      <th>89</th>\n",
              "      <td>89</td>\n",
              "      <td>7</td>\n",
              "    </tr>\n",
              "    <tr>\n",
              "      <th>90</th>\n",
              "      <td>90</td>\n",
              "      <td>6</td>\n",
              "    </tr>\n",
              "    <tr>\n",
              "      <th>91</th>\n",
              "      <td>91</td>\n",
              "      <td>5</td>\n",
              "    </tr>\n",
              "    <tr>\n",
              "      <th>92</th>\n",
              "      <td>92</td>\n",
              "      <td>6</td>\n",
              "    </tr>\n",
              "    <tr>\n",
              "      <th>93</th>\n",
              "      <td>93</td>\n",
              "      <td>5</td>\n",
              "    </tr>\n",
              "    <tr>\n",
              "      <th>94</th>\n",
              "      <td>94</td>\n",
              "      <td>7</td>\n",
              "    </tr>\n",
              "    <tr>\n",
              "      <th>95</th>\n",
              "      <td>95</td>\n",
              "      <td>4</td>\n",
              "    </tr>\n",
              "    <tr>\n",
              "      <th>96</th>\n",
              "      <td>96</td>\n",
              "      <td>4</td>\n",
              "    </tr>\n",
              "    <tr>\n",
              "      <th>97</th>\n",
              "      <td>97</td>\n",
              "      <td>2</td>\n",
              "    </tr>\n",
              "    <tr>\n",
              "      <th>98</th>\n",
              "      <td>98</td>\n",
              "      <td>3</td>\n",
              "    </tr>\n",
              "    <tr>\n",
              "      <th>99</th>\n",
              "      <td>99</td>\n",
              "      <td>5</td>\n",
              "    </tr>\n",
              "  </tbody>\n",
              "</table>\n",
              "<p>100 rows × 2 columns</p>\n",
              "</div>"
            ]
          },
          "metadata": {
            "tags": []
          },
          "execution_count": 54
        }
      ]
    },
    {
      "cell_type": "code",
      "metadata": {
        "id": "C_KEilT0Gcx2",
        "colab_type": "code",
        "colab": {}
      },
      "source": [
        "clicks.to_csv('clicks.csv')"
      ],
      "execution_count": 0,
      "outputs": []
    },
    {
      "cell_type": "markdown",
      "metadata": {
        "id": "Iqlo0Nu0Btlz",
        "colab_type": "text"
      },
      "source": [
        "1. What is Chi squared test: https://www.youtube.com/watch?v=dXB3cUGnaxQ\n",
        "\n",
        "In Chi squared distribution mean = no of degree of freedoms(k)\n",
        "\n",
        "and variance = 2k\n"
      ]
    },
    {
      "cell_type": "code",
      "metadata": {
        "id": "INL17l5GKulW",
        "colab_type": "code",
        "colab": {}
      },
      "source": [
        "from scipy.stats import chi\n",
        "from scipy.stats import norm\n",
        "import scipy\n",
        "# first argument in norm is loc a.k.a mean and second argument is standard devaition a.k.a standard deviation\n",
        "# mycomps = (chi(2,3,8),norm(30, 9),norm(60,9),norm(90,8))\n",
        "mycomps=(norm(30,9),norm(60,9),norm(90,9))\n",
        "priors = [0.45,0.25,0.15]"
      ],
      "execution_count": 0,
      "outputs": []
    },
    {
      "cell_type": "code",
      "metadata": {
        "id": "GYJ1gXEeJX61",
        "colab_type": "code",
        "outputId": "20daef72-7d4f-4e24-c383-6395bca63a68",
        "colab": {
          "base_uri": "https://localhost:8080/",
          "height": 34
        }
      },
      "source": [
        "print(mycomps[0].pdf(39))"
      ],
      "execution_count": 0,
      "outputs": [
        {
          "output_type": "stream",
          "text": [
            "0.026885636057682596\n"
          ],
          "name": "stdout"
        }
      ]
    },
    {
      "cell_type": "code",
      "metadata": {
        "id": "CgwEicRdKulc",
        "colab_type": "code",
        "colab": {}
      },
      "source": [
        "def myMixture(x,priors,myComponents):\n",
        "    s = 0\n",
        "    for comp,prior in zip(myComponents,priors):\n",
        "        s += comp.pdf(x)*prior\n",
        "    return s"
      ],
      "execution_count": 0,
      "outputs": []
    },
    {
      "cell_type": "code",
      "metadata": {
        "id": "c4nLVtq6Kuli",
        "colab_type": "code",
        "colab": {}
      },
      "source": [
        "import numpy as np\n",
        "x_data = np.linspace(0.0,100,1000)   #Generates 1000 numbers between 0 and 100\n",
        "#using uniform distribution\n"
      ],
      "execution_count": 0,
      "outputs": []
    },
    {
      "cell_type": "code",
      "metadata": {
        "id": "Q438FamQKulm",
        "colab_type": "code",
        "outputId": "049aedf7-c99d-4892-ff99-81706e98b3f0",
        "colab": {
          "base_uri": "https://localhost:8080/",
          "height": 50
        }
      },
      "source": [
        "y_data = myMixture(x_data,priors,mycomps)\n",
        "y_data[:5]"
      ],
      "execution_count": 0,
      "outputs": [
        {
          "output_type": "execute_result",
          "data": {
            "text/plain": [
              "array([7.71139523e-05, 8.00215912e-05, 8.30285932e-05, 8.61379341e-05,\n",
              "       8.93526630e-05])"
            ]
          },
          "metadata": {
            "tags": []
          },
          "execution_count": 267
        }
      ]
    },
    {
      "cell_type": "code",
      "metadata": {
        "id": "v0Lg5zzHTBQ_",
        "colab_type": "code",
        "outputId": "11e6b746-53c0-4450-9d44-a65d3490293d",
        "colab": {
          "base_uri": "https://localhost:8080/",
          "height": 34
        }
      },
      "source": [
        "len(y_data)"
      ],
      "execution_count": 0,
      "outputs": [
        {
          "output_type": "execute_result",
          "data": {
            "text/plain": [
              "1000"
            ]
          },
          "metadata": {
            "tags": []
          },
          "execution_count": 268
        }
      ]
    },
    {
      "cell_type": "code",
      "metadata": {
        "id": "GXNZTsm6Kulv",
        "colab_type": "code",
        "outputId": "1c0857b6-6db0-4708-a505-0b996e1570a4",
        "colab": {
          "base_uri": "https://localhost:8080/",
          "height": 286
        }
      },
      "source": [
        "import matplotlib.pyplot as plt\n",
        "%matplotlib inline\n",
        "plt.scatter(x_data,y_data)"
      ],
      "execution_count": 0,
      "outputs": [
        {
          "output_type": "execute_result",
          "data": {
            "text/plain": [
              "<matplotlib.collections.PathCollection at 0x7f3faa619950>"
            ]
          },
          "metadata": {
            "tags": []
          },
          "execution_count": 269
        },
        {
          "output_type": "display_data",
          "data": {
            "image/png": "[encoded data removed]",
            "text/plain": [
              "<Figure size 432x288 with 1 Axes>"
            ]
          },
          "metadata": {
            "tags": [],
            "needs_background": "light"
          }
        }
      ]
    },
    {
      "cell_type": "code",
      "metadata": {
        "id": "c46zMGF9Kul1",
        "colab_type": "code",
        "colab": {}
      },
      "source": [
        "def genSample(sample_size,priors,myComponents):\n",
        "    myData = np.empty( shape=(0) )\n",
        "    for prior,comp in zip(priors,myComponents):\n",
        "        new_data = comp.rvs(int(sample_size*prior))\n",
        "        myData = np.append(myData,new_data)\n",
        "    return myData\n",
        "  # this function actually menas the priority we want to give to each one of 3 distributions\n",
        "  # by deciding the number of data points they contribute to total no of clicks for their corresponding percentage time\n",
        "  # means if distribution norm(20,9) has prior of 0.35 it means 35 percent of varibale will belong to this distribution\n"
      ],
      "execution_count": 0,
      "outputs": []
    },
    {
      "cell_type": "code",
      "metadata": {
        "id": "0AytkHh-Kul8",
        "colab_type": "code",
        "outputId": "bc04d545-0234-4dba-d340-ddb93ef4574c",
        "colab": {
          "base_uri": "https://localhost:8080/",
          "height": 34
        }
      },
      "source": [
        "data = genSample(click_sum,priors,mycomps)\n",
        "\n",
        "len(data)"
      ],
      "execution_count": 0,
      "outputs": [
        {
          "output_type": "execute_result",
          "data": {
            "text/plain": [
              "22534"
            ]
          },
          "metadata": {
            "tags": []
          },
          "execution_count": 272
        }
      ]
    },
    {
      "cell_type": "code",
      "metadata": {
        "id": "ggoXpLotKumB",
        "colab_type": "code",
        "outputId": "fa89614f-e27d-4324-ffb8-9400d4b49614",
        "colab": {
          "base_uri": "https://localhost:8080/",
          "height": 34
        }
      },
      "source": [
        "print(data[:1],data.min(),data.max())\n",
        "\n",
        "for i in range(len(data)):\n",
        "    if data[i]<0:\n",
        "        data[i] *= -1 # multiplying by -1 to make the corresponding time positve it's kind of taking absolute  of number\n",
        "        # because time cannot be negative\n",
        "\n"
      ],
      "execution_count": 0,
      "outputs": [
        {
          "output_type": "stream",
          "text": [
            "(array([38.58390814]), -8.044411565696613, 125.67386840794165)\n"
          ],
          "name": "stdout"
        }
      ]
    },
    {
      "cell_type": "code",
      "metadata": {
        "id": "5VMbKf5UKumF",
        "colab_type": "code",
        "outputId": "f10303c6-643d-4d08-c615-ed12de9f4c70",
        "colab": {
          "base_uri": "https://localhost:8080/",
          "height": 50
        }
      },
      "source": [
        "print(min(data),max(data),len(data))\n",
        "data = np.append(data,[10])\n",
        "len(data)"
      ],
      "execution_count": 0,
      "outputs": [
        {
          "output_type": "stream",
          "text": [
            "(0.036098579892996696, 125.67386840794165, 22534)\n"
          ],
          "name": "stdout"
        },
        {
          "output_type": "execute_result",
          "data": {
            "text/plain": [
              "22535"
            ]
          },
          "metadata": {
            "tags": []
          },
          "execution_count": 274
        }
      ]
    },
    {
      "cell_type": "code",
      "metadata": {
        "id": "dO6Pm5qoPeaP",
        "colab_type": "code",
        "outputId": "20279e72-2392-470b-f888-2244cad70a56",
        "colab": {
          "base_uri": "https://localhost:8080/",
          "height": 34
        }
      },
      "source": [
        "data[0]"
      ],
      "execution_count": 0,
      "outputs": [
        {
          "output_type": "execute_result",
          "data": {
            "text/plain": [
              "38.583908140517266"
            ]
          },
          "metadata": {
            "tags": []
          },
          "execution_count": 275
        }
      ]
    },
    {
      "cell_type": "code",
      "metadata": {
        "id": "kwDqt2-AnsL3",
        "colab_type": "code",
        "outputId": "5cfafaa5-bf26-47b3-80f4-7e70fcaa61ff",
        "colab": {
          "base_uri": "https://localhost:8080/",
          "height": 50
        }
      },
      "source": [
        "click[:20]"
      ],
      "execution_count": 0,
      "outputs": [
        {
          "output_type": "execute_result",
          "data": {
            "text/plain": [
              "array([ 0,  0,  0, 38,  0,  0,  0, 25,  0,  0, 33,  8,  0,  0,  0,  0,  0,\n",
              "       36,  0,  0])"
            ]
          },
          "metadata": {
            "tags": []
          },
          "execution_count": 281
        }
      ]
    },
    {
      "cell_type": "code",
      "metadata": {
        "id": "uqG3tCG6KumI",
        "colab_type": "code",
        "colab": {}
      },
      "source": [
        "final_time = click\n",
        "\n",
        "j=0\n",
        "for i in range(len(click)):\n",
        "    \n",
        "    if click[i] == 1:#where  there is a click assign that point a  time thatwe created by gaussian mixture model\n",
        "        final_time[i] = data[j]\n",
        "        j +=1\n",
        "        "
      ],
      "execution_count": 0,
      "outputs": []
    },
    {
      "cell_type": "code",
      "metadata": {
        "id": "gMRY1PLSKumM",
        "colab_type": "code",
        "outputId": "62f6393a-158b-444a-a458-c334b82ab4cb",
        "colab": {
          "base_uri": "https://localhost:8080/",
          "height": 134
        }
      },
      "source": [
        "len(final_time),final_time[:100]"
      ],
      "execution_count": 0,
      "outputs": [
        {
          "output_type": "execute_result",
          "data": {
            "text/plain": [
              "(132570,\n",
              " array([ 0,  0,  0, 38,  0,  0,  0, 25,  0,  0, 33,  8,  0,  0,  0,  0,  0,\n",
              "        36,  0,  0,  0,  0,  0,  0, 32,  0,  0,  0,  0,  0,  0,  0,  0,  0,\n",
              "         0,  0, 21,  0,  0,  0,  0, 22, 30,  0, 24,  0,  0,  0,  0, 25, 30,\n",
              "         0,  0,  0,  0,  0, 29, 23,  0,  0, 25,  0,  0,  0,  0,  0,  0,  0,\n",
              "         0,  0,  0,  0, 24,  0,  0,  0,  0,  0,  0,  0,  0,  0,  0,  0,  0,\n",
              "        41,  0,  0,  0,  0,  0, 30,  0,  0,  0,  0,  0,  0,  0, 47]))"
            ]
          },
          "metadata": {
            "tags": []
          },
          "execution_count": 278
        }
      ]
    },
    {
      "cell_type": "code",
      "metadata": {
        "id": "vOzftT78KumP",
        "colab_type": "code",
        "outputId": "2e99a7a0-af52-413c-ad13-14ff7a92f980",
        "colab": {
          "base_uri": "https://localhost:8080/",
          "height": 669
        }
      },
      "source": [
        "df['Percentage Time Spent'] = final_time\n",
        "\n",
        "df.head(21)"
      ],
      "execution_count": 0,
      "outputs": [
        {
          "output_type": "execute_result",
          "data": {
            "text/plain": [
              "    UserId  SessionId  ArticleId_served  Click  Percentage Time Spent\n",
              "0        1          1              4734      0                      0\n",
              "1        1          1              2416      0                      0\n",
              "2        1          1              3796      0                      0\n",
              "3        1          1              1579      1                     38\n",
              "4        1          1              3517      0                      0\n",
              "5        1          1               443      0                      0\n",
              "6        1          1              2722      0                      0\n",
              "7        1          1              1574      1                     25\n",
              "8        1          1              1664      0                      0\n",
              "9        1          1              3529      0                      0\n",
              "10       1          2              4514      1                     33\n",
              "11       1          2              3397      1                      8\n",
              "12       1          2               283      0                      0\n",
              "13       1          2              1518      0                      0\n",
              "14       1          2              1645      0                      0\n",
              "15       1          2              1488      0                      0\n",
              "16       1          2              1080      0                      0\n",
              "17       1          2              4175      1                     36\n",
              "18       1          2              4791      0                      0\n",
              "19       1          2              3345      0                      0\n",
              "20       2          1              3646      0                      0"
            ],
            "text/html": [
              "<div>\n",
              "<style scoped>\n",
              "    .dataframe tbody tr th:only-of-type {\n",
              "        vertical-align: middle;\n",
              "    }\n",
              "\n",
              "    .dataframe tbody tr th {\n",
              "        vertical-align: top;\n",
              "    }\n",
              "\n",
              "    .dataframe thead th {\n",
              "        text-align: right;\n",
              "    }\n",
              "</style>\n",
              "<table border=\"1\" class=\"dataframe\">\n",
              "  <thead>\n",
              "    <tr style=\"text-align: right;\">\n",
              "      <th></th>\n",
              "      <th>UserId</th>\n",
              "      <th>SessionId</th>\n",
              "      <th>ArticleId_served</th>\n",
              "      <th>Click</th>\n",
              "      <th>Percentage Time Spent</th>\n",
              "    </tr>\n",
              "  </thead>\n",
              "  <tbody>\n",
              "    <tr>\n",
              "      <th>0</th>\n",
              "      <td>1</td>\n",
              "      <td>1</td>\n",
              "      <td>4734</td>\n",
              "      <td>0</td>\n",
              "      <td>0</td>\n",
              "    </tr>\n",
              "    <tr>\n",
              "      <th>1</th>\n",
              "      <td>1</td>\n",
              "      <td>1</td>\n",
              "      <td>2416</td>\n",
              "      <td>0</td>\n",
              "      <td>0</td>\n",
              "    </tr>\n",
              "    <tr>\n",
              "      <th>2</th>\n",
              "      <td>1</td>\n",
              "      <td>1</td>\n",
              "      <td>3796</td>\n",
              "      <td>0</td>\n",
              "      <td>0</td>\n",
              "    </tr>\n",
              "    <tr>\n",
              "      <th>3</th>\n",
              "      <td>1</td>\n",
              "      <td>1</td>\n",
              "      <td>1579</td>\n",
              "      <td>1</td>\n",
              "      <td>38</td>\n",
              "    </tr>\n",
              "    <tr>\n",
              "      <th>4</th>\n",
              "      <td>1</td>\n",
              "      <td>1</td>\n",
              "      <td>3517</td>\n",
              "      <td>0</td>\n",
              "      <td>0</td>\n",
              "    </tr>\n",
              "    <tr>\n",
              "      <th>5</th>\n",
              "      <td>1</td>\n",
              "      <td>1</td>\n",
              "      <td>443</td>\n",
              "      <td>0</td>\n",
              "      <td>0</td>\n",
              "    </tr>\n",
              "    <tr>\n",
              "      <th>6</th>\n",
              "      <td>1</td>\n",
              "      <td>1</td>\n",
              "      <td>2722</td>\n",
              "      <td>0</td>\n",
              "      <td>0</td>\n",
              "    </tr>\n",
              "    <tr>\n",
              "      <th>7</th>\n",
              "      <td>1</td>\n",
              "      <td>1</td>\n",
              "      <td>1574</td>\n",
              "      <td>1</td>\n",
              "      <td>25</td>\n",
              "    </tr>\n",
              "    <tr>\n",
              "      <th>8</th>\n",
              "      <td>1</td>\n",
              "      <td>1</td>\n",
              "      <td>1664</td>\n",
              "      <td>0</td>\n",
              "      <td>0</td>\n",
              "    </tr>\n",
              "    <tr>\n",
              "      <th>9</th>\n",
              "      <td>1</td>\n",
              "      <td>1</td>\n",
              "      <td>3529</td>\n",
              "      <td>0</td>\n",
              "      <td>0</td>\n",
              "    </tr>\n",
              "    <tr>\n",
              "      <th>10</th>\n",
              "      <td>1</td>\n",
              "      <td>2</td>\n",
              "      <td>4514</td>\n",
              "      <td>1</td>\n",
              "      <td>33</td>\n",
              "    </tr>\n",
              "    <tr>\n",
              "      <th>11</th>\n",
              "      <td>1</td>\n",
              "      <td>2</td>\n",
              "      <td>3397</td>\n",
              "      <td>1</td>\n",
              "      <td>8</td>\n",
              "    </tr>\n",
              "    <tr>\n",
              "      <th>12</th>\n",
              "      <td>1</td>\n",
              "      <td>2</td>\n",
              "      <td>283</td>\n",
              "      <td>0</td>\n",
              "      <td>0</td>\n",
              "    </tr>\n",
              "    <tr>\n",
              "      <th>13</th>\n",
              "      <td>1</td>\n",
              "      <td>2</td>\n",
              "      <td>1518</td>\n",
              "      <td>0</td>\n",
              "      <td>0</td>\n",
              "    </tr>\n",
              "    <tr>\n",
              "      <th>14</th>\n",
              "      <td>1</td>\n",
              "      <td>2</td>\n",
              "      <td>1645</td>\n",
              "      <td>0</td>\n",
              "      <td>0</td>\n",
              "    </tr>\n",
              "    <tr>\n",
              "      <th>15</th>\n",
              "      <td>1</td>\n",
              "      <td>2</td>\n",
              "      <td>1488</td>\n",
              "      <td>0</td>\n",
              "      <td>0</td>\n",
              "    </tr>\n",
              "    <tr>\n",
              "      <th>16</th>\n",
              "      <td>1</td>\n",
              "      <td>2</td>\n",
              "      <td>1080</td>\n",
              "      <td>0</td>\n",
              "      <td>0</td>\n",
              "    </tr>\n",
              "    <tr>\n",
              "      <th>17</th>\n",
              "      <td>1</td>\n",
              "      <td>2</td>\n",
              "      <td>4175</td>\n",
              "      <td>1</td>\n",
              "      <td>36</td>\n",
              "    </tr>\n",
              "    <tr>\n",
              "      <th>18</th>\n",
              "      <td>1</td>\n",
              "      <td>2</td>\n",
              "      <td>4791</td>\n",
              "      <td>0</td>\n",
              "      <td>0</td>\n",
              "    </tr>\n",
              "    <tr>\n",
              "      <th>19</th>\n",
              "      <td>1</td>\n",
              "      <td>2</td>\n",
              "      <td>3345</td>\n",
              "      <td>0</td>\n",
              "      <td>0</td>\n",
              "    </tr>\n",
              "    <tr>\n",
              "      <th>20</th>\n",
              "      <td>2</td>\n",
              "      <td>1</td>\n",
              "      <td>3646</td>\n",
              "      <td>0</td>\n",
              "      <td>0</td>\n",
              "    </tr>\n",
              "  </tbody>\n",
              "</table>\n",
              "</div>"
            ]
          },
          "metadata": {
            "tags": []
          },
          "execution_count": 282
        }
      ]
    },
    {
      "cell_type": "code",
      "metadata": {
        "id": "iQbWUOhgP5wi",
        "colab_type": "code",
        "outputId": "87001e90-443f-4e95-d100-bae375e7e461",
        "colab": {
          "base_uri": "https://localhost:8080/",
          "height": 34
        }
      },
      "source": [
        "df['Percentage Time Spent'].min()\n"
      ],
      "execution_count": 0,
      "outputs": [
        {
          "output_type": "execute_result",
          "data": {
            "text/plain": [
              "0"
            ]
          },
          "metadata": {
            "tags": []
          },
          "execution_count": 283
        }
      ]
    },
    {
      "cell_type": "code",
      "metadata": {
        "id": "Cll_vbMEKumT",
        "colab_type": "code",
        "colab": {}
      },
      "source": [
        "df.to_csv(\"Generated_Click_Stream_Data.csv\")"
      ],
      "execution_count": 0,
      "outputs": []
    }
  ]
}